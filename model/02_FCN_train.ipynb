{
 "cells": [
  {
   "cell_type": "code",
   "execution_count": null,
   "id": "ed402e43-c224-4c07-8b59-07eff24cf8aa",
   "metadata": {},
   "outputs": [],
   "source": [
    "import os\n",
    "import mlflow\n",
    "from mlflow import MlflowClient\n",
    "import torch\n",
    "import torchmetrics\n",
    "import random\n",
    "import numpy as np\n",
    "from tqdm import tqdm\n",
    "import sys\n",
    "\n",
    "PROJECT_PATH = '...'\n",
    "SHARED_PROJECT_PATH = '...'\n",
    "\n",
    "sys.path.append(PROJECT_PATH)\n",
    "\n",
    "from src.utils.data_utils import read_mlflow_dataset, read_mlflow_dataset_config\n",
    "from src.trainers.AETrainer import AEFCNTrainer\n",
    "\n",
    "RANDOM_SEED = 42\n",
    "AE_RUN_ID = '...'\n",
    "\n",
    "mlflow.set_tracking_uri('...')"
   ]
  },
  {
   "cell_type": "code",
   "execution_count": null,
   "id": "7197ff3a-a079-4ada-a5db-8fed82ba5067",
   "metadata": {},
   "outputs": [],
   "source": [
    "experiment = mlflow.set_experiment('02-02_fully_connected_network')"
   ]
  },
  {
   "cell_type": "code",
   "execution_count": null,
   "id": "f2583a42-d126-4d9c-9bfa-33814d84dca5",
   "metadata": {},
   "outputs": [],
   "source": [
    "with mlflow.start_run(log_system_metrics=True) as run:\n",
    "    # Seed random generators to ensure deterministic experiments\n",
    "    random.seed(RANDOM_SEED)\n",
    "    np.random.seed(RANDOM_SEED)\n",
    "    torch.manual_seed(RANDOM_SEED)\n",
    "    torch.cuda.manual_seed(RANDOM_SEED)\n",
    "    torch.backends.cudnn.deterministic = True\n",
    "    torch.backends.cudnn.benchmark = False\n",
    "    \n",
    "    # Define PyTorch device\n",
    "    device = torch.device('cuda' if torch.cuda.is_available() else 'cpu')\n",
    "    \n",
    "    # Read and log train, validation, test datasets and dataset config file\n",
    "    data_date = '03-08-2024'\n",
    "    X_train, y_train, _ = read_mlflow_dataset(SHARED_PROJECT_PATH, data_date, 'train', '-resmpl', targets='acc_no_23-24', device=device)\n",
    "    X_test, y_test, non_accident_dim = read_mlflow_dataset(SHARED_PROJECT_PATH, data_date, 'test', '-resmpl', targets='acc_no_23-24', device=device)\n",
    "    df_conf = read_mlflow_dataset_config(SHARED_PROJECT_PATH, data_date)\n",
    "    \n",
    "    # Load trained autoencoder from MLflow\n",
    "    autoencoder = mlflow.pytorch.load_model(f'runs:/{AE_RUN_ID}/{MlflowClient().list_artifacts(AE_RUN_ID, \"models\")[0].path}')\n",
    "    \n",
    "    # Specify and log training parameters\n",
    "    params = {\n",
    "        'autoencoder': autoencoder,\n",
    "        'inp_dim': X_train.shape[1] - non_accident_dim + autoencoder.enc_dim,\n",
    "        'learning_rate': 1e-2\n",
    "    }\n",
    "    params_log = params.copy()\n",
    "    params_log['data_date'] = data_date\n",
    "    mlflow.log_params(params_log)\n",
    "\n",
    "    # Define, train and evaluate model\n",
    "    trainer = AEFCNTrainer(**params)\n",
    "    trainer.train(X_train, y_train, X_test, y_test, epochs=200, min_max_norms=(df_conf['acc_no_norm_min'][0], df_conf['acc_no_norm_max'][0]))\n",
    "    trainer.evaluate(X_test, y_test, 'test', min_max_norms=(df_conf['acc_no_norm_min'][0], df_conf['acc_no_norm_max'][0]))\n",
    "    trainer.evaluate(X_train, y_train, 'train', torch.nn.L1Loss(), 'mae', min_max_norms=(df_conf['acc_no_norm_min'][0], df_conf['acc_no_norm_max'][0]))\n",
    "    trainer.evaluate(X_test, y_test, 'test', torch.nn.L1Loss(), 'mae', min_max_norms=(df_conf['acc_no_norm_min'][0], df_conf['acc_no_norm_max'][0]))\n",
    "    trainer.evaluate(X_train, y_train, 'train', torchmetrics.regression.MeanAbsolutePercentageError(), 'mape',\n",
    "                     min_max_norms=(df_conf['acc_no_norm_min'][0], df_conf['acc_no_norm_max'][0]), proc_func=lambda x: x+1)\n",
    "    trainer.evaluate(X_test, y_test, 'test', torchmetrics.regression.MeanAbsolutePercentageError(), 'mape',\n",
    "                     min_max_norms=(df_conf['acc_no_norm_min'][0], df_conf['acc_no_norm_max'][0]), proc_func=lambda x: x+1)"
   ]
  }
 ],
 "metadata": {
  "kernelspec": {
   "display_name": "Python 3 (ipykernel)",
   "language": "python",
   "name": "python3"
  },
  "language_info": {
   "codemirror_mode": {
    "name": "ipython",
    "version": 3
   },
   "file_extension": ".py",
   "mimetype": "text/x-python",
   "name": "python",
   "nbconvert_exporter": "python",
   "pygments_lexer": "ipython3",
   "version": "3.11.9"
  }
 },
 "nbformat": 4,
 "nbformat_minor": 5
}
