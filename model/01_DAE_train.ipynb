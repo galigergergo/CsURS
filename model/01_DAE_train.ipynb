{
 "cells": [
  {
   "cell_type": "code",
   "execution_count": 1,
   "id": "ed402e43-c224-4c07-8b59-07eff24cf8aa",
   "metadata": {},
   "outputs": [],
   "source": [
    "import os\n",
    "import mlflow\n",
    "import torch\n",
    "import random\n",
    "import numpy as np\n",
    "from tqdm import tqdm\n",
    "import sys\n",
    "\n",
    "sys.path.append('./')\n",
    "from src.utils.data_utils import read_dataset\n",
    "from src.trainers.AETrainer import AETrainer\n",
    "\n",
    "DATA_PATH = './data'\n",
    "FILE_NAME_TRAIN = 'BP_safety_network_master_NN_train.csv'\n",
    "FILE_NAME_TEST = 'BP_safety_network_master_NN_test.csv'\n",
    "RANDOM_SEED = 42\n",
    "\n",
    "mlflow.set_tracking_uri('http://127.0.0.1:8080')"
   ]
  },
  {
   "cell_type": "code",
   "execution_count": 2,
   "id": "7197ff3a-a079-4ada-a5db-8fed82ba5067",
   "metadata": {},
   "outputs": [],
   "source": [
    "experiment = mlflow.set_experiment('01_DAE')"
   ]
  },
  {
   "cell_type": "code",
   "execution_count": 3,
   "id": "f2583a42-d126-4d9c-9bfa-33814d84dca5",
   "metadata": {},
   "outputs": [
    {
     "name": "stderr",
     "output_type": "stream",
     "text": [
      "2025/10/02 12:43:02 WARNING mlflow.system_metrics.system_metrics_monitor: Skip logging GPU metrics because creating `GPUMonitor` failed with error: Failed to initialize NVML, skip logging GPU metrics: NVML Shared Library Not Found.\n",
      "2025/10/02 12:43:02 INFO mlflow.system_metrics.system_metrics_monitor: Started monitoring system metrics.\n",
      "100%|██████████████████████████████████████████████████████████████████████████████| 1500/1500 [01:33<00:00, 16.08it/s]\n",
      "2025/10/02 12:44:59 INFO mlflow.system_metrics.system_metrics_monitor: Stopping system metrics monitoring...\n",
      "2025/10/02 12:44:59 INFO mlflow.system_metrics.system_metrics_monitor: Successfully terminated system metrics monitoring!\n"
     ]
    },
    {
     "name": "stdout",
     "output_type": "stream",
     "text": [
      "🏃 View run popular-slug-721 at: http://127.0.0.1:8080/#/experiments/775881003945806667/runs/e5a5b25fc25f4435bd9177664c21ff9a\n",
      "🧪 View experiment at: http://127.0.0.1:8080/#/experiments/775881003945806667\n"
     ]
    }
   ],
   "source": [
    "with mlflow.start_run(log_system_metrics=True) as run:\n",
    "    # Seed random generators to ensure deterministic experiments\n",
    "    random.seed(RANDOM_SEED)\n",
    "    np.random.seed(RANDOM_SEED)\n",
    "    torch.manual_seed(RANDOM_SEED)\n",
    "    torch.cuda.manual_seed(RANDOM_SEED)\n",
    "    torch.backends.cudnn.deterministic = True\n",
    "    torch.backends.cudnn.benchmark = False\n",
    "    \n",
    "    # Define PyTorch device\n",
    "    device = torch.device('cuda' if torch.cuda.is_available() else 'cpu')\n",
    "    \n",
    "    # Read and log train, validation and test datasets\n",
    "    X_train, y_train, _ = read_dataset(DATA_PATH, FILE_NAME_TRAIN, targets='rs_crashes_2324', device=device)\n",
    "    X_test, y_test, non_accident_dim = read_dataset(DATA_PATH, FILE_NAME_TEST, targets='rs_crashes_2324', device=device)\n",
    "    \n",
    "    # Specify and log training parameters\n",
    "    params = {\n",
    "        'inp_dim': non_accident_dim,\n",
    "        'noise_factor': 0.5,\n",
    "        'enc_dim': 4,\n",
    "        'learning_rate': 1e-2,\n",
    "        'weight_decay': 1e-8\n",
    "    }\n",
    "    mlflow.log_params(params.copy())\n",
    "\n",
    "    # Define, train and evaluate model\n",
    "    trainer = AETrainer(**params)\n",
    "    trainer.train(X_train, y_train, X_test, y_test, 1500)\n",
    "    trainer.evaluate(X_test, y_test, 'test')"
   ]
  }
 ],
 "metadata": {
  "kernelspec": {
   "display_name": "Python 3 (ipykernel)",
   "language": "python",
   "name": "python3"
  },
  "language_info": {
   "codemirror_mode": {
    "name": "ipython",
    "version": 3
   },
   "file_extension": ".py",
   "mimetype": "text/x-python",
   "name": "python",
   "nbconvert_exporter": "python",
   "pygments_lexer": "ipython3",
   "version": "3.11.9"
  }
 },
 "nbformat": 4,
 "nbformat_minor": 5
}
