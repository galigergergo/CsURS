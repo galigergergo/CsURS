{
 "cells": [
  {
   "cell_type": "code",
   "execution_count": null,
   "id": "ed402e43-c224-4c07-8b59-07eff24cf8aa",
   "metadata": {},
   "outputs": [],
   "source": [
    "import os\n",
    "import mlflow\n",
    "import torch\n",
    "import random\n",
    "import numpy as np\n",
    "from tqdm import tqdm\n",
    "import sys\n",
    "\n",
    "PROJECT_PATH = '...'\n",
    "SHARED_PROJECT_PATH = '...'\n",
    "\n",
    "sys.path.append(PROJECT_PATH)\n",
    "\n",
    "from src.utils.data_utils import read_mlflow_dataset\n",
    "from src.trainers.AETrainer import AETrainer\n",
    "\n",
    "RANDOM_SEED = 42\n",
    "\n",
    "mlflow.set_tracking_uri('...')"
   ]
  },
  {
   "cell_type": "code",
   "execution_count": null,
   "id": "7197ff3a-a079-4ada-a5db-8fed82ba5067",
   "metadata": {},
   "outputs": [],
   "source": [
    "experiment = mlflow.set_experiment('02-01_denoising_autoencoder')"
   ]
  },
  {
   "cell_type": "code",
   "execution_count": null,
   "id": "f2583a42-d126-4d9c-9bfa-33814d84dca5",
   "metadata": {},
   "outputs": [],
   "source": [
    "with mlflow.start_run(log_system_metrics=True) as run:\n",
    "    # Seed random generators to ensure deterministic experiments\n",
    "    random.seed(RANDOM_SEED)\n",
    "    np.random.seed(RANDOM_SEED)\n",
    "    torch.manual_seed(RANDOM_SEED)\n",
    "    torch.cuda.manual_seed(RANDOM_SEED)\n",
    "    torch.backends.cudnn.deterministic = True\n",
    "    torch.backends.cudnn.benchmark = False\n",
    "    \n",
    "    # Define PyTorch device\n",
    "    device = torch.device('cuda' if torch.cuda.is_available() else 'cpu')\n",
    "    \n",
    "    # Read and log train, validation and test datasets\n",
    "    data_date = '03-08-2024'\n",
    "    X_train, y_train, _ = read_mlflow_dataset(SHARED_PROJECT_PATH, data_date, 'train', '-resmpl', targets='acc_no_23-24', device=device)\n",
    "    X_test, y_test, non_accident_dim = read_mlflow_dataset(SHARED_PROJECT_PATH, data_date, 'test', '-resmpl', targets='acc_no_23-24', device=device)\n",
    "    \n",
    "    # Specify and log training parameters\n",
    "    params = {\n",
    "        'inp_dim': non_accident_dim,\n",
    "        'noise_factor': 0.5,\n",
    "        'enc_dim': 4,\n",
    "        'learning_rate': 1e-2,\n",
    "        'weight_decay': 1e-8\n",
    "    }\n",
    "    params_log = params.copy()\n",
    "    params_log['data_date'] = data_date\n",
    "    mlflow.log_params(params_log)\n",
    "\n",
    "    # Define, train and evaluate model\n",
    "    trainer = AETrainer(**params)\n",
    "    trainer.train(X_train, y_train, X_test, y_test, 1500)\n",
    "    trainer.evaluate(X_test, y_test, 'test')"
   ]
  }
 ],
 "metadata": {
  "kernelspec": {
   "display_name": "Python 3 (ipykernel)",
   "language": "python",
   "name": "python3"
  },
  "language_info": {
   "codemirror_mode": {
    "name": "ipython",
    "version": 3
   },
   "file_extension": ".py",
   "mimetype": "text/x-python",
   "name": "python",
   "nbconvert_exporter": "python",
   "pygments_lexer": "ipython3",
   "version": "3.11.9"
  }
 },
 "nbformat": 4,
 "nbformat_minor": 5
}
