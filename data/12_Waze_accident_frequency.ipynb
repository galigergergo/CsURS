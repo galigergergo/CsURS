{
 "cells": [
  {
   "cell_type": "code",
   "execution_count": null,
   "id": "72b0e5dd-9f7d-4a69-9443-ef09d21ac0b4",
   "metadata": {},
   "outputs": [],
   "source": [
    "import pandas as pd\n",
    "import geopandas as gpd\n",
    "import numpy as np\n",
    "import pyodbc\n",
    "import os\n",
    "import osmnx as ox\n",
    "import networkx as nx\n",
    "import geonetworkx as gnx\n",
    "from networkx.classes.filters import no_filter\n",
    "from datetime import date\n",
    "\n",
    "SHARED_PROJECT_PATH = '...'\n",
    "SHARED_PROJECT_PATH_POLY = '...'\n",
    "\n",
    "today = date.today().strftime('%d-%m-%Y')"
   ]
  },
  {
   "cell_type": "code",
   "execution_count": null,
   "id": "b3a2226a-eddd-45e6-ba01-2ce2c5c19845",
   "metadata": {},
   "outputs": [],
   "source": [
    "# Read clustered accident dataset\n",
    "df_acc = gpd.read_file(os.path.join(SHARED_PROJECT_PATH, 'data', 'Waze_accidents', today, f'BP_acc-clust-airdist_{today}.json'))"
   ]
  },
  {
   "cell_type": "code",
   "execution_count": null,
   "id": "c52b2f7f-2056-4f95-b9bd-8f5805a736de",
   "metadata": {},
   "outputs": [],
   "source": [
    "# Read processed OSM raod network data\n",
    "gdf_graph_edges = gpd.read_file(os.path.join(SHARED_PROJECT_PATH, 'data', 'OSM_road_network', today, f'GDF_BP-network-conn-undir_{today}.json'), driver='GeoJSON').to_crs('EPSG:23700')"
   ]
  },
  {
   "cell_type": "code",
   "execution_count": null,
   "id": "d7f7ee90-8026-4f78-ad8b-717d11066927",
   "metadata": {},
   "outputs": [],
   "source": [
    "# Add number of accidents per year to the road network - year: 01.05.2019 - 30.04.2020\n",
    "# Determine year of accident alerts\n",
    "df_acc = df_acc[(df_acc.ts >= '2019-05-01') & (df_acc.ts < '2024-05-01')].copy()\n",
    "df_acc['year'] = 'acc_no_19-20'\n",
    "for year in range(19, int(today[-2:])):\n",
    "    df_acc.loc[df_acc[(df_acc.ts >= f'20{year}-05-01') & (df_acc.ts < f'20{year+1}-05-01')].index, 'year'] = f'acc_no_{year}-{year+1}'\n",
    "# Join accident number data to road network dataframe\n",
    "df_acc_joined = gpd.sjoin_nearest(df_acc, gdf_graph_edges, how='left', distance_col='dist', max_distance=15)\n",
    "df_acc_joined_gr = df_acc_joined.groupby(['gnx_edge_id', 'year']).size().to_frame().reset_index().pivot(index='gnx_edge_id', columns='year', values=0).fillna(0)\n",
    "gdf_graph_edges.set_index('gnx_edge_id', inplace=True)\n",
    "gdf_graph_edges = gdf_graph_edges.join(df_acc_joined_gr, how='left')\n",
    "gdf_graph_edges[gdf_graph_edges.columns[-5:]] = gdf_graph_edges[gdf_graph_edges.columns[-5:]].fillna(0)"
   ]
  },
  {
   "cell_type": "code",
   "execution_count": null,
   "id": "9f858ea7-957a-4412-8e59-7e7df301163e",
   "metadata": {},
   "outputs": [],
   "source": [
    "# Save road network with accident alert numbers as geojson\n",
    "gdf_graph_edges.to_file(os.path.join(SHARED_PROJECT_PATH, 'data', 'OSM_road_network', today, f'BP_safety-network_{today}.json'), driver='GeoJSON')"
   ]
  }
 ],
 "metadata": {
  "kernelspec": {
   "display_name": "Python 3 (ipykernel)",
   "language": "python",
   "name": "python3"
  },
  "language_info": {
   "codemirror_mode": {
    "name": "ipython",
    "version": 3
   },
   "file_extension": ".py",
   "mimetype": "text/x-python",
   "name": "python",
   "nbconvert_exporter": "python",
   "pygments_lexer": "ipython3",
   "version": "3.11.9"
  }
 },
 "nbformat": 4,
 "nbformat_minor": 5
}
