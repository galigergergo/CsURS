{
 "cells": [
  {
   "cell_type": "code",
   "execution_count": null,
   "id": "413bcf4e-ec89-4f35-98d2-26f5d7b65994",
   "metadata": {},
   "outputs": [],
   "source": [
    "import pyodbc\n",
    "import pandas as pd\n",
    "import geopandas as gpd\n",
    "from tqdm import tqdm\n",
    "import os\n",
    "import math\n",
    "from datetime import timedelta, date\n",
    "from geopy.distance import great_circle\n",
    "\n",
    "tqdm.pandas()\n",
    "\n",
    "SHARED_PROJECT_PATH = '...'\n",
    "SHARED_PROJECT_PATH_POLY = '...'\n",
    "\n",
    "SERVER = '...'\n",
    "DATABASE = '...'\n",
    "USERNAME = '...'\n",
    "PASSWORD = '...'\n",
    "TRUSTSERVERCERT = '...'\n",
    "TRUSTEDCONN = '...'"
   ]
  },
  {
   "cell_type": "markdown",
   "id": "ebd5b5fa-62e0-4c1b-94b6-32834298402a",
   "metadata": {},
   "source": [
    "---\n",
    "\n",
    "## Reading and preprocessing accident alerts"
   ]
  },
  {
   "cell_type": "code",
   "execution_count": null,
   "id": "bb7ade6e-5d3b-433a-bda6-848f93028f9e",
   "metadata": {},
   "outputs": [],
   "source": [
    "# Read raw accident data\n",
    "connection_string = f'''\n",
    "    DRIVER={{ODBC Driver 18 for SQL Server}};\n",
    "    SERVER={SERVER};\n",
    "    DATABASE={DATABASE};\n",
    "    Trusted_Connection={TRUSTEDCONN};\n",
    "    UID={USERNAME};\n",
    "    PWD={PASSWORD};\n",
    "    TrustServerCertificate={TRUSTSERVERCERT};\n",
    "'''\n",
    "sql_query = f'''\n",
    "    SELECT *\n",
    "    FROM ...\n",
    "    WHERE type = 'ACCIDENT'\n",
    "'''\n",
    "conn = pyodbc.connect(connection_string)\n",
    "df_acc = pd.read_sql(sql_query, conn)"
   ]
  },
  {
   "cell_type": "code",
   "execution_count": null,
   "id": "8382893f-1576-4f65-b4e3-e02e94ccdfaf",
   "metadata": {},
   "outputs": [],
   "source": [
    "# Process raw accident data\n",
    "df_acc = df_acc.drop_duplicates()\n",
    "df_acc = df_acc.groupby('uuid').agg({\n",
    "    'city': 'first',\n",
    "    'confidence': 'max',\n",
    "    'nThumbsUp': 'first',\n",
    "    'street': 'first',\n",
    "    'country': 'first',\n",
    "    'subtype': 'first',\n",
    "    'roadType': 'first',\n",
    "    'reliability': 'max',\n",
    "    'magvar': 'first',\n",
    "    'reportRating': 'first',\n",
    "    'ts': 'first',\n",
    "    'geoWKT': 'first'\n",
    "}).reset_index()\n",
    "\n",
    "df_acc['ts'] = pd.to_datetime(df_acc['ts'])\n",
    "\n",
    "df_acc['geometry'] = gpd.GeoSeries.from_wkt(df_acc['geoWKT'])\n",
    "df_acc = gpd.GeoDataFrame(df_acc, crs='EPSG:4326', geometry=df_acc.geometry).to_crs('EPSG:23700')\n",
    "df_acc.drop(columns=['geoWKT'], inplace=True)"
   ]
  },
  {
   "cell_type": "code",
   "execution_count": null,
   "id": "5524819b-838a-4cc1-a32e-7d9b441709cd",
   "metadata": {},
   "outputs": [],
   "source": [
    "# Read Budapest polygons\n",
    "gdf_poly = gpd.read_file(os.path.join(SHARED_PROJECT_PATH_POLY, 'bp_polygons_osm.geojson')).to_crs('EPSG:23700')"
   ]
  },
  {
   "cell_type": "code",
   "execution_count": null,
   "id": "90371531-95c0-40f6-bf18-699cb25fb197",
   "metadata": {},
   "outputs": [],
   "source": [
    "# Filter accidents for Budapest\n",
    "df_acc = df_acc[df_acc.within(gdf_poly.iloc[0].geometry)]"
   ]
  },
  {
   "cell_type": "markdown",
   "id": "09259892-f49a-462f-a340-67ebe6f49e68",
   "metadata": {},
   "source": [
    "---\n",
    "\n",
    "## ST-DBSCAN clustering"
   ]
  },
  {
   "cell_type": "code",
   "execution_count": null,
   "id": "7a8cfc4e-2354-4db1-8a74-bcb0347535e3",
   "metadata": {},
   "outputs": [],
   "source": [
    "\"\"\"\n",
    "INPUTS:\n",
    "    df={o1,o2,...,on} Set of objects\n",
    "    spatial_threshold = Maximum geographical coordinate (spatial) distance value\n",
    "    temporal_threshold = Maximum non-spatial distance value\n",
    "    min_neighbors = Minimun number of points within Eps1 and Eps2 distance\n",
    "OUTPUT:\n",
    "    C = {c1,c2,...,ck} Set of clusters\n",
    "\"\"\"\n",
    "def ST_DBSCAN(df, spatial_threshold, temporal_threshold, min_neighbors):\n",
    "    cluster_label = 0\n",
    "    NOISE = -1\n",
    "    UNMARKED = 777777\n",
    "    stack = []\n",
    "\n",
    "    # initialize each point with unmarked\n",
    "    df['cluster'] = UNMARKED\n",
    "    \n",
    "    # for each point in database\n",
    "    for index, point in tqdm(df.iterrows(), total=df.shape[0]):\n",
    "        if df.loc[index]['cluster'] == UNMARKED:\n",
    "            neighborhood = retrieve_neighbors(index, df, spatial_threshold, temporal_threshold)\n",
    "            \n",
    "            if len(neighborhood) < min_neighbors:\n",
    "                df.at[index, 'cluster'] = NOISE\n",
    "\n",
    "            else: # found a core point\n",
    "                cluster_label = cluster_label + 1\n",
    "                df.at[index, 'cluster'] = cluster_label# assign a label to core point\n",
    "\n",
    "                for neig_index in neighborhood: # assign core's label to its neighborhood\n",
    "                    df.at[neig_index, 'cluster'] = cluster_label\n",
    "                    stack.append(neig_index) # append neighborhood to stack\n",
    "                \n",
    "                while len(stack) > 0: # find new neighbors from core point neighborhood\n",
    "                    current_point_index = stack.pop()\n",
    "                    new_neighborhood = retrieve_neighbors(current_point_index, df, spatial_threshold, temporal_threshold)\n",
    "                    \n",
    "                    if len(new_neighborhood) >= min_neighbors: # current_point is a new core\n",
    "                        for neig_index in new_neighborhood:\n",
    "                            neig_cluster = df.loc[neig_index]['cluster']\n",
    "                            if (neig_cluster != NOISE) & (neig_cluster == UNMARKED): \n",
    "                                # TODO: verify cluster average before add new point\n",
    "                                df.at[neig_index, 'cluster'] = cluster_label\n",
    "                                stack.append(neig_index)\n",
    "    return df\n",
    "\n",
    "\n",
    "def retrieve_neighbors(index_center, df, spatial_threshold, temporal_threshold):\n",
    "    neigborhood = []\n",
    "\n",
    "    center_point = df.loc[index_center]\n",
    "\n",
    "    # filter by time \n",
    "    min_time = center_point['ts'] - timedelta(minutes = temporal_threshold)\n",
    "    max_time = center_point['ts'] + timedelta(minutes = temporal_threshold)\n",
    "    df = df[(df['ts'] >= min_time) & (df['ts'] <= max_time)]\n",
    "\n",
    "    # filter by distance\n",
    "    for index, point in df.iterrows():\n",
    "        if index != index_center:\n",
    "            distance = great_circle((center_point['latitude'], center_point['longitude']), (point['latitude'], point['longitude'])).meters\n",
    "            if distance <= spatial_threshold:\n",
    "                neigborhood.append(index)\n",
    "\n",
    "    return neigborhood"
   ]
  },
  {
   "cell_type": "code",
   "execution_count": null,
   "id": "f7a39c5e-6658-4c25-9ecd-6355eed20dab",
   "metadata": {},
   "outputs": [],
   "source": [
    "df_acc['latitude'] = df_acc.to_crs('EPSG:4236')['geometry'].x\n",
    "df_acc['longitude'] = df_acc.to_crs('EPSG:4236')['geometry'].y"
   ]
  },
  {
   "cell_type": "code",
   "execution_count": null,
   "id": "f8045812-92c1-4446-865a-d8dcedb980d0",
   "metadata": {},
   "outputs": [],
   "source": [
    "df_acc = ST_DBSCAN(df_acc, 300, 200, 1).drop(columns=['latitude', 'longitude'])"
   ]
  },
  {
   "cell_type": "code",
   "execution_count": null,
   "id": "2147cd0e-9bae-483b-bbd7-672db108319f",
   "metadata": {},
   "outputs": [],
   "source": [
    "df_acc.sort_values(by=['ts'], inplace=True)"
   ]
  },
  {
   "cell_type": "code",
   "execution_count": null,
   "id": "7ff50e54-209a-46ae-9d22-1a9982facec5",
   "metadata": {},
   "outputs": [],
   "source": [
    "df_acc.rename(columns={'nThumbsUp': 'n_alerts_clustered'}, inplace=True)\n",
    "df_acc['n_alerts_clustered'] = 1\n",
    "df_acc.loc[df_acc[df_acc['subtype'] == ''].index, 'subtype'] = 'UNKNOWN'"
   ]
  },
  {
   "cell_type": "code",
   "execution_count": null,
   "id": "060fb158-5f6e-4939-b4d1-6e53b62ce84d",
   "metadata": {},
   "outputs": [],
   "source": [
    "df_acc_clust = gpd.GeoDataFrame(pd.concat([\n",
    "     gpd.GeoDataFrame(df_acc[df_acc['cluster'] != -1].groupby('cluster').agg({'uuid': 'first', 'city': 'first', 'confidence': 'max', 'street': 'first', 'country': 'first',\n",
    "                                                                              'subtype': 'min', 'roadType': 'first', 'reliability': 'max', 'magvar': 'first',\n",
    "                                                                              'reportRating': 'max', 'ts': 'first', 'geometry': 'first', 'n_alerts_clustered': 'count'}),\n",
    "                     crs='EPSG:23700'),\n",
    "    df_acc[df_acc['cluster'] == -1]\n",
    "]), crs='EPSG:23700').sort_values('ts').drop(columns=['cluster'])                       "
   ]
  },
  {
   "cell_type": "code",
   "execution_count": null,
   "id": "7537aa97-e521-4b8b-a3b5-7fc26035d3cb",
   "metadata": {},
   "outputs": [],
   "source": [
    "df_acc.shape"
   ]
  },
  {
   "cell_type": "code",
   "execution_count": null,
   "id": "69a4ee31-4334-41a5-98c3-57ddc29d8bda",
   "metadata": {},
   "outputs": [],
   "source": [
    "df_acc_clust.shape"
   ]
  },
  {
   "cell_type": "code",
   "execution_count": null,
   "id": "017840ae-3bf5-4c1a-9ce6-13841ad640a0",
   "metadata": {},
   "outputs": [],
   "source": [
    "today = date.today().strftime('%d-%m-%Y')\n",
    "out_path = os.path.join(SHARED_PROJECT_PATH, 'data', 'Waze_accidents', today)\n",
    "if not os.path.exists(out_path):\n",
    "    os.makedirs(out_path)\n",
    "df_acc_clust.to_file(os.path.join(out_path, f'BP_acc-clust-airdist_{today}.json'), driver='GeoJSON')"
   ]
  }
 ],
 "metadata": {
  "kernelspec": {
   "display_name": "Python 3 (ipykernel)",
   "language": "python",
   "name": "python3"
  },
  "language_info": {
   "codemirror_mode": {
    "name": "ipython",
    "version": 3
   },
   "file_extension": ".py",
   "mimetype": "text/x-python",
   "name": "python",
   "nbconvert_exporter": "python",
   "pygments_lexer": "ipython3",
   "version": "3.11.9"
  }
 },
 "nbformat": 4,
 "nbformat_minor": 5
}
