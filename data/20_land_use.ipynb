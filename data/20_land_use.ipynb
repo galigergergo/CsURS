{
 "cells": [
  {
   "cell_type": "code",
   "execution_count": null,
   "id": "cc3980a7-111c-4966-878d-8b73adf6224a",
   "metadata": {},
   "outputs": [],
   "source": [
    "import geopandas as gpd\n",
    "import os\n",
    "from datetime import date\n",
    "\n",
    "SHARED_PROJECT_PATH = '...'\n",
    "SHARED_PROJECT_PATH_POLY = '...'"
   ]
  },
  {
   "cell_type": "code",
   "execution_count": null,
   "id": "e4e4de87-fa95-419e-97a6-9203549f4c80",
   "metadata": {},
   "outputs": [],
   "source": [
    "# Read land use data\n",
    "gdf_land_use = gpd.read_file(os.path.join(SHARED_PROJECT_PATH, 'data', 'land_use', 'KSH', 'agg', 'BP_land-use_agg.geojson')).drop(columns=['comment']).dropna()"
   ]
  },
  {
   "cell_type": "code",
   "execution_count": null,
   "id": "87d098a1-14b4-4bd9-bf76-fb048376b9bb",
   "metadata": {},
   "outputs": [],
   "source": [
    "# Project land use data to EOV\n",
    "gdf_land_use = gdf_land_use.to_crs('EPSG:23700')"
   ]
  },
  {
   "cell_type": "code",
   "execution_count": null,
   "id": "3a6bcdee-33ab-4e6e-ac00-aea5db2f3f0a",
   "metadata": {},
   "outputs": [],
   "source": [
    "# Process and aggregate land use data\n",
    "others_list = ['Isolated structures', 'Wetlands', 'Land without current use']\n",
    "gdf_land_use.loc[list(gdf_land_use[gdf_land_use['class_2018'].isin(others_list)].index), 'class_2018'] = 'Other'\n",
    "private_list = ['Port areas', 'Construction sites', 'Airports', 'Industrial, commercial, public, military and private units', 'Mineral extraction and dump sites', 'Railways and associated land']\n",
    "gdf_land_use.loc[list(gdf_land_use[gdf_land_use['class_2018'].isin(private_list)].index), 'class_2018'] = 'lu_com_ind'\n",
    "urban_list = ['Green urban areas', 'Sports and leisure facilities', 'Medium-low density urban fabric (S.L. : < 50%)', 'Urban fabric (S.L. : > 50%)']\n",
    "gdf_land_use.loc[list(gdf_land_use[gdf_land_use['class_2018'].isin(urban_list)].index), 'class_2018'] = 'lu_urban'\n",
    "green_list = ['Crops, pastures', 'Forests']\n",
    "gdf_land_use.loc[list(gdf_land_use[gdf_land_use['class_2018'].isin(green_list)].index), 'class_2018'] = 'lu_green'\n",
    "gdf_land_use.drop(gdf_land_use[gdf_land_use['class_2018'].isin(['Other', 'Roads and associated land', 'Water'])].index, inplace=True)\n",
    "gdf_land_use = gdf_land_use.dissolve(by='class_2018', aggfunc='first')[['geometry']].reset_index()"
   ]
  },
  {
   "cell_type": "code",
   "execution_count": null,
   "id": "ba265911-83a5-4795-882f-c2675e941afd",
   "metadata": {},
   "outputs": [],
   "source": [
    "# Read processed OSM raod network data\n",
    "today = date.today().strftime('%d-%m-%Y')\n",
    "gdf_graph_edges = gpd.read_file(os.path.join(SHARED_PROJECT_PATH, 'data', 'OSM_road_network', today, f'BP_safety-network_{today}.json'), driver='GeoJSON')"
   ]
  },
  {
   "cell_type": "code",
   "execution_count": null,
   "id": "5d8efbce-ce62-4c57-a0ab-8175d568327a",
   "metadata": {
    "scrolled": true
   },
   "outputs": [],
   "source": [
    "# Add land use data to OSM road network as percentage of land use in road segment buffer\n",
    "gdf_graph_edges_buff = gdf_graph_edges.copy()\n",
    "gdf_graph_edges_buff.geometry = gdf_graph_edges_buff.geometry.buffer(25, cap_style=2)\n",
    "gdf_res = gpd.overlay(gdf_graph_edges_buff, gdf_land_use, how='intersection')\n",
    "gdf_res['land_use_perc'] = gdf_res.geometry.area\n",
    "gdf_res['land_use_perc'] /= gdf_res.join(gdf_res.groupby('gnx_edge_id').land_use_perc.sum(), on='gnx_edge_id', rsuffix='_sum').land_use_perc_sum\n",
    "gdf_res = gdf_res.pivot_table(index=['gnx_edge_id'], columns=['class_2018'], values='land_use_perc').fillna(0)\n",
    "gdf_res.columns = [col for col in gdf_res.columns]\n",
    "gdf_res.reset_index(inplace=True)\n",
    "gdf_graph_edges = gdf_graph_edges.merge(gdf_res, on='gnx_edge_id')"
   ]
  },
  {
   "cell_type": "code",
   "execution_count": null,
   "id": "9f858ea7-957a-4412-8e59-7e7df301163e",
   "metadata": {},
   "outputs": [],
   "source": [
    "# Save road safety network with land use percentages as geojson\n",
    "gdf_graph_edges.to_file(os.path.join(SHARED_PROJECT_PATH, 'data', 'OSM_road_network', today, f'BP_safety-network_{today}.json'), driver='GeoJSON')"
   ]
  }
 ],
 "metadata": {
  "kernelspec": {
   "display_name": "Python 3 (ipykernel)",
   "language": "python",
   "name": "python3"
  },
  "language_info": {
   "codemirror_mode": {
    "name": "ipython",
    "version": 3
   },
   "file_extension": ".py",
   "mimetype": "text/x-python",
   "name": "python",
   "nbconvert_exporter": "python",
   "pygments_lexer": "ipython3",
   "version": "3.11.9"
  }
 },
 "nbformat": 4,
 "nbformat_minor": 5
}
