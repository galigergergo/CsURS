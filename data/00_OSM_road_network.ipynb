{
 "cells": [
  {
   "cell_type": "code",
   "execution_count": 1,
   "id": "7f2cc49f-c08d-46cd-b70f-1bba6be77f2e",
   "metadata": {},
   "outputs": [],
   "source": [
    "import os\n",
    "import pickle\n",
    "import shapely\n",
    "import numpy as np\n",
    "import osmnx as ox\n",
    "import networkx as nx\n",
    "import geopandas as gpd\n",
    "import pandas as pd\n",
    "from datetime import date\n",
    "import geonetworkx as gnx\n",
    "from networkx.classes.filters import no_filter\n",
    "from statistics import mode\n",
    "from tqdm import tqdm\n",
    "from shapely import LineString\n",
    "\n",
    "tqdm.pandas()\n",
    "\n",
    "DATA_PATH = './data'"
   ]
  },
  {
   "cell_type": "code",
   "execution_count": 2,
   "id": "640a63ac-6cb0-4ca1-bd11-49e9cafb7140",
   "metadata": {},
   "outputs": [],
   "source": [
    "# Get OSM raod network within Central Hungary with necessary attributes without merging road segments on specific attributes\n",
    "useful_tags = ['surface', 'lit', 'lanes:forward', 'lanes:backward']\n",
    "ox.settings.useful_tags_way += useful_tags\n",
    "graph = ox.graph_from_place('Central Hungary', simplify=False, retain_all=True,\n",
    "                            custom_filter = '[\"highway\"~\"motorway|trunk|primary|secondary|tertiary|unclassified|residential\"]')\n",
    "graph = ox.simplification.simplify_graph(graph, edge_attrs_differ=['highway', 'maxspeed'] + useful_tags)"
   ]
  },
  {
   "cell_type": "code",
   "execution_count": 3,
   "id": "34dfdd38-d4fb-4ecb-8daf-ef22ba762c41",
   "metadata": {},
   "outputs": [],
   "source": [
    "# Add geometry columns to non-simplified graph edges\n",
    "for k in graph.edges:\n",
    "    if 'geometry' not in graph.edges[k].keys():\n",
    "        graph.edges[k]['geometry'] = LineString([[graph.nodes[k[0]]['x'], graph.nodes[k[0]]['y']], [graph.nodes[k[1]]['x'], graph.nodes[k[1]]['y']]])"
   ]
  },
  {
   "cell_type": "code",
   "execution_count": 4,
   "id": "954335fd-b3ca-45e8-81d8-90b1214dfd85",
   "metadata": {},
   "outputs": [
    {
     "name": "stdout",
     "output_type": "stream",
     "text": [
      "(182960, 2)\n"
     ]
    }
   ],
   "source": [
    "# Discretize roads to linestrings\n",
    "graph = gnx.read_geograph_with_coordinates_attributes(graph)\n",
    "graph_view = nx.graphviews.subgraph_view(graph, filter_node=no_filter, filter_edge=no_filter)\n",
    "edges_as_lines = nx.get_edge_attributes(graph_view, graph.edges_geometry_key)\n",
    "gdf_graph_edges = gpd.GeoDataFrame({'gnx_edge_id': list(edges_as_lines.keys()), 'geometry': list(edges_as_lines.values())}, crs='EPSG:4326')\n",
    "print(gdf_graph_edges.shape)"
   ]
  },
  {
   "cell_type": "code",
   "execution_count": 5,
   "id": "c54321f4-1602-4e28-a5ef-72d94ff24768",
   "metadata": {},
   "outputs": [],
   "source": [
    "# Get OSM polygon for Budapest administrative area\n",
    "gdf_poly = ox.geocode_to_gdf('Budapest, Hungary')\n",
    "gdf_poly.rename(columns={'osm_id': 'osmid'}, inplace=True)"
   ]
  },
  {
   "cell_type": "code",
   "execution_count": 6,
   "id": "48cdaabf-310d-425c-b04e-b3463e9c5ac2",
   "metadata": {},
   "outputs": [
    {
     "name": "stdout",
     "output_type": "stream",
     "text": [
      "(63221, 4)\n"
     ]
    }
   ],
   "source": [
    "# Get Budapest road network by overlaying the Budapest polygon on the Central Hungary road network\n",
    "gdf_graph_edges = gdf_graph_edges.overlay(gdf_poly[['osmid', 'name', 'geometry']], how='intersection', keep_geom_type=True)\n",
    "print(gdf_graph_edges.shape)"
   ]
  },
  {
   "cell_type": "code",
   "execution_count": 7,
   "id": "2035ae99-e121-45a7-839e-e1f4571dbf1b",
   "metadata": {},
   "outputs": [
    {
     "name": "stdout",
     "output_type": "stream",
     "text": [
      "(63221, 10)\n"
     ]
    }
   ],
   "source": [
    "# Add relevant graph attributes to road network gdf\n",
    "filter_gnx_dict = lambda d, keys: {k: d[k] if k in d.keys() else np.nan for k in keys}\n",
    "attributes = ['highway', 'maxspeed', 'oneway', 'length', 'lit', 'surface']\n",
    "s = gdf_graph_edges.apply(lambda r: filter_gnx_dict(graph_view.edges[r.gnx_edge_id], attributes), axis=1)\n",
    "gdf_graph_edges = pd.concat([gdf_graph_edges, pd.DataFrame(s.to_list())], axis=1)\n",
    "print(gdf_graph_edges.shape)"
   ]
  },
  {
   "cell_type": "code",
   "execution_count": 8,
   "id": "645f08da-43ec-4911-accf-05615f825759",
   "metadata": {},
   "outputs": [
    {
     "name": "stdout",
     "output_type": "stream",
     "text": [
      "(63221, 9)\n"
     ]
    }
   ],
   "source": [
    "# Drop redundant columns containing a single value\n",
    "gdf_graph_edges.drop(columns=['name'], inplace=True)\n",
    "print(gdf_graph_edges.shape)"
   ]
  },
  {
   "cell_type": "code",
   "execution_count": 9,
   "id": "d306147a-2bdb-41f0-bf0d-41deeb37896b",
   "metadata": {
    "scrolled": true
   },
   "outputs": [
    {
     "data": {
      "text/plain": [
       "{(69182479, 4386858889, 0),\n",
       " (1380502040, 1380502054, 0),\n",
       " (1380502054, 1380502040, 1),\n",
       " (4386858889, 69182479, 1)}"
      ]
     },
     "execution_count": 9,
     "metadata": {},
     "output_type": "execute_result"
    }
   ],
   "source": [
    "# Solve problem of two-way road not having the same gdf_edge_id for both directions - 2 examples found in the Budapest road network for now\n",
    "twoway_dir_set = set(gdf_graph_edges[~gdf_graph_edges['oneway']]['gnx_edge_id'].to_list())\n",
    "twoway_undir_set = set(gdf_graph_edges[~gdf_graph_edges['oneway']]['gnx_edge_id'].apply(lambda t: t if t[0] < t[1] else (t[1], t[0], t[2])).to_list())\n",
    "twoway_undir_dupl_set = twoway_undir_set.union(set(map(lambda t: (t[1], t[0], t[2]), twoway_undir_set)))\n",
    "twoway_undir_dupl_set.difference(twoway_dir_set)"
   ]
  },
  {
   "cell_type": "code",
   "execution_count": 10,
   "id": "6839ddad-addc-4126-a080-6ac687a98287",
   "metadata": {},
   "outputs": [
    {
     "data": {
      "text/html": [
       "<div>\n",
       "<style scoped>\n",
       "    .dataframe tbody tr th:only-of-type {\n",
       "        vertical-align: middle;\n",
       "    }\n",
       "\n",
       "    .dataframe tbody tr th {\n",
       "        vertical-align: top;\n",
       "    }\n",
       "\n",
       "    .dataframe thead th {\n",
       "        text-align: right;\n",
       "    }\n",
       "</style>\n",
       "<table border=\"1\" class=\"dataframe\">\n",
       "  <thead>\n",
       "    <tr style=\"text-align: right;\">\n",
       "      <th></th>\n",
       "      <th>gnx_edge_id</th>\n",
       "      <th>osmid</th>\n",
       "      <th>geometry</th>\n",
       "      <th>highway</th>\n",
       "      <th>maxspeed</th>\n",
       "      <th>oneway</th>\n",
       "      <th>length</th>\n",
       "      <th>lit</th>\n",
       "      <th>surface</th>\n",
       "    </tr>\n",
       "  </thead>\n",
       "  <tbody>\n",
       "    <tr>\n",
       "      <th>46929</th>\n",
       "      <td>(659534228, 1380502054, 0)</td>\n",
       "      <td>37244</td>\n",
       "      <td>LINESTRING (19.13094 47.37885, 19.13066 47.37871)</td>\n",
       "      <td>unclassified</td>\n",
       "      <td>NaN</td>\n",
       "      <td>False</td>\n",
       "      <td>26.053</td>\n",
       "      <td>NaN</td>\n",
       "      <td>NaN</td>\n",
       "    </tr>\n",
       "    <tr>\n",
       "      <th>51211</th>\n",
       "      <td>(1380502040, 1380502054, 0)</td>\n",
       "      <td>37244</td>\n",
       "      <td>LINESTRING (19.13031 47.37851, 19.13052 47.378...</td>\n",
       "      <td>unclassified</td>\n",
       "      <td>NaN</td>\n",
       "      <td>True</td>\n",
       "      <td>85.126</td>\n",
       "      <td>NaN</td>\n",
       "      <td>NaN</td>\n",
       "    </tr>\n",
       "    <tr>\n",
       "      <th>51212</th>\n",
       "      <td>(1380502040, 1380502054, 1)</td>\n",
       "      <td>37244</td>\n",
       "      <td>LINESTRING (19.13031 47.37851, 19.13053 47.378...</td>\n",
       "      <td>unclassified</td>\n",
       "      <td>NaN</td>\n",
       "      <td>False</td>\n",
       "      <td>34.410</td>\n",
       "      <td>NaN</td>\n",
       "      <td>NaN</td>\n",
       "    </tr>\n",
       "    <tr>\n",
       "      <th>51213</th>\n",
       "      <td>(1380502054, 659534228, 0)</td>\n",
       "      <td>37244</td>\n",
       "      <td>LINESTRING (19.13066 47.37871, 19.13094 47.37885)</td>\n",
       "      <td>unclassified</td>\n",
       "      <td>NaN</td>\n",
       "      <td>False</td>\n",
       "      <td>26.053</td>\n",
       "      <td>NaN</td>\n",
       "      <td>NaN</td>\n",
       "    </tr>\n",
       "    <tr>\n",
       "      <th>51214</th>\n",
       "      <td>(1380502054, 1380502040, 0)</td>\n",
       "      <td>37244</td>\n",
       "      <td>LINESTRING (19.13066 47.37871, 19.13053 47.378...</td>\n",
       "      <td>unclassified</td>\n",
       "      <td>NaN</td>\n",
       "      <td>False</td>\n",
       "      <td>34.410</td>\n",
       "      <td>NaN</td>\n",
       "      <td>NaN</td>\n",
       "    </tr>\n",
       "  </tbody>\n",
       "</table>\n",
       "</div>"
      ],
      "text/plain": [
       "                       gnx_edge_id  osmid  \\\n",
       "46929   (659534228, 1380502054, 0)  37244   \n",
       "51211  (1380502040, 1380502054, 0)  37244   \n",
       "51212  (1380502040, 1380502054, 1)  37244   \n",
       "51213   (1380502054, 659534228, 0)  37244   \n",
       "51214  (1380502054, 1380502040, 0)  37244   \n",
       "\n",
       "                                                geometry       highway  \\\n",
       "46929  LINESTRING (19.13094 47.37885, 19.13066 47.37871)  unclassified   \n",
       "51211  LINESTRING (19.13031 47.37851, 19.13052 47.378...  unclassified   \n",
       "51212  LINESTRING (19.13031 47.37851, 19.13053 47.378...  unclassified   \n",
       "51213  LINESTRING (19.13066 47.37871, 19.13094 47.37885)  unclassified   \n",
       "51214  LINESTRING (19.13066 47.37871, 19.13053 47.378...  unclassified   \n",
       "\n",
       "      maxspeed  oneway  length  lit surface  \n",
       "46929      NaN   False  26.053  NaN     NaN  \n",
       "51211      NaN    True  85.126  NaN     NaN  \n",
       "51212      NaN   False  34.410  NaN     NaN  \n",
       "51213      NaN   False  26.053  NaN     NaN  \n",
       "51214      NaN   False  34.410  NaN     NaN  "
      ]
     },
     "execution_count": 10,
     "metadata": {},
     "output_type": "execute_result"
    }
   ],
   "source": [
    "gdf_graph_edges[gdf_graph_edges['gnx_edge_id'].apply(lambda t: (t[0] == 1380502054) | (t[1] == 1380502054))]"
   ]
  },
  {
   "cell_type": "code",
   "execution_count": 11,
   "id": "fbdceaef-22e9-4a6f-b3f9-6ff5918496a9",
   "metadata": {},
   "outputs": [],
   "source": [
    "# Swap gdf_edge_id values\n",
    "gdf_graph_edges.loc[gdf_graph_edges['gnx_edge_id'] == (1380502040, 1380502054, 0), 'gnx_edge_id'] = 'temp'\n",
    "filt = gdf_graph_edges['gnx_edge_id'] == (1380502040, 1380502054, 1)\n",
    "gdf_graph_edges.loc[filt, 'gnx_edge_id'] = pd.Series([(1380502040, 1380502054, 0)], index=filt[filt].index)\n",
    "filt = gdf_graph_edges['gnx_edge_id'] == 'temp'\n",
    "gdf_graph_edges.loc[filt, 'gnx_edge_id'] = pd.Series([(1380502040, 1380502054, 1)], index=filt[filt].index)"
   ]
  },
  {
   "cell_type": "code",
   "execution_count": 12,
   "id": "dd1e3886-6f70-4bcc-8a57-815cfae6854c",
   "metadata": {},
   "outputs": [
    {
     "data": {
      "text/html": [
       "<div>\n",
       "<style scoped>\n",
       "    .dataframe tbody tr th:only-of-type {\n",
       "        vertical-align: middle;\n",
       "    }\n",
       "\n",
       "    .dataframe tbody tr th {\n",
       "        vertical-align: top;\n",
       "    }\n",
       "\n",
       "    .dataframe thead th {\n",
       "        text-align: right;\n",
       "    }\n",
       "</style>\n",
       "<table border=\"1\" class=\"dataframe\">\n",
       "  <thead>\n",
       "    <tr style=\"text-align: right;\">\n",
       "      <th></th>\n",
       "      <th>gnx_edge_id</th>\n",
       "      <th>osmid</th>\n",
       "      <th>geometry</th>\n",
       "      <th>highway</th>\n",
       "      <th>maxspeed</th>\n",
       "      <th>oneway</th>\n",
       "      <th>length</th>\n",
       "      <th>lit</th>\n",
       "      <th>surface</th>\n",
       "    </tr>\n",
       "  </thead>\n",
       "  <tbody>\n",
       "    <tr>\n",
       "      <th>17618</th>\n",
       "      <td>(69182479, 4386858889, 0)</td>\n",
       "      <td>37244</td>\n",
       "      <td>LINESTRING (19.10761 47.59697, 19.10773 47.596...</td>\n",
       "      <td>residential</td>\n",
       "      <td>NaN</td>\n",
       "      <td>True</td>\n",
       "      <td>502.291</td>\n",
       "      <td>NaN</td>\n",
       "      <td>NaN</td>\n",
       "    </tr>\n",
       "    <tr>\n",
       "      <th>17619</th>\n",
       "      <td>(69182479, 4386858889, 1)</td>\n",
       "      <td>37244</td>\n",
       "      <td>LINESTRING (19.10761 47.59697, 19.10842 47.597...</td>\n",
       "      <td>unclassified</td>\n",
       "      <td>NaN</td>\n",
       "      <td>False</td>\n",
       "      <td>306.246</td>\n",
       "      <td>NaN</td>\n",
       "      <td>NaN</td>\n",
       "    </tr>\n",
       "    <tr>\n",
       "      <th>17620</th>\n",
       "      <td>(69182479, 5956704802, 0)</td>\n",
       "      <td>37244</td>\n",
       "      <td>LINESTRING (19.10761 47.59697, 19.10730 47.596...</td>\n",
       "      <td>unclassified</td>\n",
       "      <td>NaN</td>\n",
       "      <td>False</td>\n",
       "      <td>104.021</td>\n",
       "      <td>NaN</td>\n",
       "      <td>NaN</td>\n",
       "    </tr>\n",
       "    <tr>\n",
       "      <th>58438</th>\n",
       "      <td>(4386858889, 69182479, 0)</td>\n",
       "      <td>37244</td>\n",
       "      <td>LINESTRING (19.11105 47.59844, 19.11063 47.598...</td>\n",
       "      <td>unclassified</td>\n",
       "      <td>NaN</td>\n",
       "      <td>False</td>\n",
       "      <td>306.246</td>\n",
       "      <td>NaN</td>\n",
       "      <td>NaN</td>\n",
       "    </tr>\n",
       "    <tr>\n",
       "      <th>60280</th>\n",
       "      <td>(5956704802, 69182479, 0)</td>\n",
       "      <td>37244</td>\n",
       "      <td>LINESTRING (19.10656 47.59636, 19.10666 47.596...</td>\n",
       "      <td>unclassified</td>\n",
       "      <td>NaN</td>\n",
       "      <td>False</td>\n",
       "      <td>104.021</td>\n",
       "      <td>NaN</td>\n",
       "      <td>NaN</td>\n",
       "    </tr>\n",
       "  </tbody>\n",
       "</table>\n",
       "</div>"
      ],
      "text/plain": [
       "                     gnx_edge_id  osmid  \\\n",
       "17618  (69182479, 4386858889, 0)  37244   \n",
       "17619  (69182479, 4386858889, 1)  37244   \n",
       "17620  (69182479, 5956704802, 0)  37244   \n",
       "58438  (4386858889, 69182479, 0)  37244   \n",
       "60280  (5956704802, 69182479, 0)  37244   \n",
       "\n",
       "                                                geometry       highway  \\\n",
       "17618  LINESTRING (19.10761 47.59697, 19.10773 47.596...   residential   \n",
       "17619  LINESTRING (19.10761 47.59697, 19.10842 47.597...  unclassified   \n",
       "17620  LINESTRING (19.10761 47.59697, 19.10730 47.596...  unclassified   \n",
       "58438  LINESTRING (19.11105 47.59844, 19.11063 47.598...  unclassified   \n",
       "60280  LINESTRING (19.10656 47.59636, 19.10666 47.596...  unclassified   \n",
       "\n",
       "      maxspeed  oneway   length  lit surface  \n",
       "17618      NaN    True  502.291  NaN     NaN  \n",
       "17619      NaN   False  306.246  NaN     NaN  \n",
       "17620      NaN   False  104.021  NaN     NaN  \n",
       "58438      NaN   False  306.246  NaN     NaN  \n",
       "60280      NaN   False  104.021  NaN     NaN  "
      ]
     },
     "execution_count": 12,
     "metadata": {},
     "output_type": "execute_result"
    }
   ],
   "source": [
    "gdf_graph_edges[gdf_graph_edges['gnx_edge_id'].apply(lambda t: (t[0] == 69182479) | (t[1] == 69182479))]"
   ]
  },
  {
   "cell_type": "code",
   "execution_count": 13,
   "id": "b06f23fc-9bf4-4477-91ed-439a0cddd8cc",
   "metadata": {},
   "outputs": [],
   "source": [
    "# Swap gdf_edge_id values\n",
    "gdf_graph_edges.loc[gdf_graph_edges['gnx_edge_id'] == (69182479, 4386858889, 0), 'gnx_edge_id'] = 'temp'\n",
    "filt = gdf_graph_edges['gnx_edge_id'] == (69182479, 4386858889, 1)\n",
    "gdf_graph_edges.loc[filt, 'gnx_edge_id'] = pd.Series([(69182479, 4386858889, 0)], index=filt[filt].index)\n",
    "filt = gdf_graph_edges['gnx_edge_id'] == 'temp'\n",
    "gdf_graph_edges.loc[filt, 'gnx_edge_id'] = pd.Series([(69182479, 4386858889, 1)], index=filt[filt].index)"
   ]
  },
  {
   "cell_type": "code",
   "execution_count": 14,
   "id": "adc15fae-f16e-4038-9296-72c3a92d9eb6",
   "metadata": {},
   "outputs": [
    {
     "name": "stdout",
     "output_type": "stream",
     "text": [
      "(63221, 9)\n"
     ]
    }
   ],
   "source": [
    "# Remove 0 maxspeeds\n",
    "for k in gdf_graph_edges[gdf_graph_edges['maxspeed'] == '0'].gnx_edge_id:\n",
    "    del graph.edges[k]['maxspeed']\n",
    "gdf_graph_edges.loc[gdf_graph_edges[gdf_graph_edges['maxspeed'] == '0'].index, 'maxspeed'] = np.nan\n",
    "print(gdf_graph_edges.shape)"
   ]
  },
  {
   "cell_type": "code",
   "execution_count": 15,
   "id": "361abf86-8525-4f52-b62a-041ce7cb394a",
   "metadata": {},
   "outputs": [
    {
     "name": "stdout",
     "output_type": "stream",
     "text": [
      "(63221, 9)\n"
     ]
    }
   ],
   "source": [
    "# Aggregate surface attributes\n",
    "paved_attrs = ['chipseal', 'cobblestone', 'compacted', 'concrete', 'sett', 'paving_stones']\n",
    "unpaved_attrs = ['dirt', 'earth', 'fine_gravel', 'grass', 'gravel', 'ground', 'pebblestone', 'rock', 'sand']\n",
    "\n",
    "def replace_graph_attributes(graph, attr, old, new):\n",
    "    for k in graph.edges:\n",
    "        if attr in graph.edges[k].keys() and graph.edges[k][attr] == old:\n",
    "            graph.edges[k][attr] = new\n",
    "    return graph\n",
    "\n",
    "for k in gdf_graph_edges[~(gdf_graph_edges['surface'].isna()) & (gdf_graph_edges['surface'].str.contains('cobblestone'))].gnx_edge_id:\n",
    "    graph.edges[k]['surface'] = 'cobblestone'\n",
    "for k in gdf_graph_edges[~(gdf_graph_edges['surface'].isna()) & (gdf_graph_edges['surface'].str.contains('concrete'))].gnx_edge_id:\n",
    "    graph.edges[k]['surface'] = 'concrete'\n",
    "for k in gdf_graph_edges[~(gdf_graph_edges['surface'].isna()) & (gdf_graph_edges['surface'].str.contains('grass'))].gnx_edge_id:\n",
    "    graph.edges[k]['surface'] = 'grass'\n",
    "for k in gdf_graph_edges[gdf_graph_edges['surface'].isin(paved_attrs)].gnx_edge_id:\n",
    "    graph.edges[k]['surface'] = 'paved'\n",
    "for k in gdf_graph_edges[gdf_graph_edges['surface'].isin(unpaved_attrs)].gnx_edge_id:\n",
    "    graph.edges[k]['surface'] = 'unpaved'\n",
    "for old in paved_attrs:\n",
    "    graph = replace_graph_attributes(graph, 'surface', old, 'paved')\n",
    "for old in unpaved_attrs:\n",
    "    graph = replace_graph_attributes(graph, 'surface', old, 'unpaved')\n",
    "\n",
    "gdf_graph_edges.loc[gdf_graph_edges[~(gdf_graph_edges['surface'].isna()) & (gdf_graph_edges['surface'].str.contains('cobblestone'))].index, 'surface'] = 'cobblestone'\n",
    "gdf_graph_edges.loc[gdf_graph_edges[~(gdf_graph_edges['surface'].isna()) & (gdf_graph_edges['surface'].str.contains('concrete'))].index, 'surface'] = 'concrete'\n",
    "gdf_graph_edges.loc[gdf_graph_edges[~(gdf_graph_edges['surface'].isna()) & (gdf_graph_edges['surface'].str.contains('grass'))].index, 'surface'] = 'grass'\n",
    "gdf_graph_edges.loc[gdf_graph_edges[gdf_graph_edges['surface'].isin(['chipseal', 'cobblestone', 'compacted', 'concrete', 'sett', 'paving_stones'])].index, 'surface'] = 'paved'\n",
    "gdf_graph_edges.loc[gdf_graph_edges[gdf_graph_edges['surface'].isin(['dirt', 'earth', 'fine_gravel', 'grass', 'gravel', 'ground', 'pebblestone', 'rock', 'sand'])].index, 'surface'] = 'unpaved'\n",
    "\n",
    "print(gdf_graph_edges.shape)"
   ]
  },
  {
   "cell_type": "code",
   "execution_count": 16,
   "id": "0b3efeea-619d-42b6-889a-9a5c87395d98",
   "metadata": {},
   "outputs": [
    {
     "name": "stdout",
     "output_type": "stream",
     "text": [
      "maxspeed\n",
      "NaNs before: 19876\n"
     ]
    },
    {
     "name": "stderr",
     "output_type": "stream",
     "text": [
      "100%|██████████| 15/15 [01:02<00:00,  4.16s/it]\n"
     ]
    },
    {
     "name": "stdout",
     "output_type": "stream",
     "text": [
      "NaNs after: 165\n",
      "\n",
      "lit\n",
      "NaNs before: 28631\n"
     ]
    },
    {
     "name": "stderr",
     "output_type": "stream",
     "text": [
      "100%|██████████| 15/15 [02:35<00:00, 10.37s/it]\n"
     ]
    },
    {
     "name": "stdout",
     "output_type": "stream",
     "text": [
      "NaNs after: 153\n",
      "\n",
      "surface\n",
      "NaNs before: 14165\n"
     ]
    },
    {
     "name": "stderr",
     "output_type": "stream",
     "text": [
      "100%|██████████| 15/15 [00:21<00:00,  1.42s/it]"
     ]
    },
    {
     "name": "stdout",
     "output_type": "stream",
     "text": [
      "NaNs after: 88\n",
      "\n",
      "(63221, 9)\n"
     ]
    },
    {
     "name": "stderr",
     "output_type": "stream",
     "text": [
      "\n"
     ]
    }
   ],
   "source": [
    "# Find missing attributes for an edge as the most common value of the 1-hop neighbors of the same type\n",
    "def find_attr_from_neighbors(graph, edge, attr, dt):\n",
    "    o, d, _ = edge\n",
    "\n",
    "    l = (list(nx.bfs_edges(graph, source=o, depth_limit=dt)) + list(nx.bfs_edges(graph, source=d, depth_limit=dt)))\n",
    "    if (o, d) in l:\n",
    "        l.remove((o, d))\n",
    "    if (d, o) in l:\n",
    "        l.remove((d, o))\n",
    "    \n",
    "    neighb_attrs = []\n",
    "    for it in l:\n",
    "        i = 0\n",
    "        while not it + (i,) in graph.edges.keys():\n",
    "            i += 1\n",
    "        e = graph.edges[it + (i,)]\n",
    "        if attr in e.keys() and e['highway'] == graph.edges[edge]['highway']:\n",
    "            neighb_attrs.append(e[attr])\n",
    "    if len(neighb_attrs):\n",
    "        return mode(neighb_attrs)\n",
    "    return None\n",
    "\n",
    "\n",
    "for attr in ['maxspeed', 'lit', 'surface']:\n",
    "    print(attr)\n",
    "    print('NaNs before:', gdf_graph_edges[gdf_graph_edges[attr].isna()].shape[0])\n",
    "    for dt in tqdm([1, 1, 1, 1, 1, 3, 3, 3, 5, 5, 5, 20, 20, 20, 1000]):\n",
    "        for i in gdf_graph_edges[gdf_graph_edges[attr].isna()].index:\n",
    "            edge = gdf_graph_edges.loc[i, 'gnx_edge_id']\n",
    "            val = find_attr_from_neighbors(graph, edge, attr, dt)\n",
    "            if val != None:\n",
    "                gdf_graph_edges.loc[i, attr] = val\n",
    "                graph.edges[edge][attr] = val\n",
    "    print('NaNs after:', gdf_graph_edges[gdf_graph_edges[attr].isna()].shape[0])\n",
    "    print()\n",
    "print(gdf_graph_edges.shape)"
   ]
  },
  {
   "cell_type": "code",
   "execution_count": 17,
   "id": "bba46c8d-1bd4-49a0-bd7c-d63306ba1975",
   "metadata": {},
   "outputs": [
    {
     "name": "stdout",
     "output_type": "stream",
     "text": [
      "maxspeed\n",
      "NaNs before: 165\n",
      "NaNs after: 0\n",
      "\n",
      "lit\n",
      "NaNs before: 153\n",
      "NaNs after: 0\n",
      "\n",
      "surface\n",
      "NaNs before: 88\n",
      "NaNs after: 0\n",
      "\n",
      "(63221, 9)\n"
     ]
    }
   ],
   "source": [
    "# Complete missing attributes with the most common value from all road segments of the same type\n",
    "for attr in ['maxspeed', 'lit', 'surface']:\n",
    "    print(attr)\n",
    "    print('NaNs before:', gdf_graph_edges[gdf_graph_edges[attr].isna()].shape[0])\n",
    "    common_attr_per_highway = gdf_graph_edges.groupby(['highway'])[attr].agg(pd.Series.mode)\n",
    "    gdf_graph_edges.loc[gdf_graph_edges[gdf_graph_edges[attr].isna()].index, attr] = gdf_graph_edges[gdf_graph_edges[attr].isna()].apply(\n",
    "                                                                                         lambda row: common_attr_per_highway[row['highway']], axis=1)\n",
    "    print('NaNs after:', gdf_graph_edges[gdf_graph_edges[attr].isna()].shape[0])\n",
    "    print()\n",
    "print(gdf_graph_edges.shape)"
   ]
  },
  {
   "cell_type": "code",
   "execution_count": 18,
   "id": "a60e7ba0-86e1-4389-b08b-78a0be79a969",
   "metadata": {},
   "outputs": [
    {
     "name": "stdout",
     "output_type": "stream",
     "text": [
      "(63221, 10)\n"
     ]
    }
   ],
   "source": [
    "# Extract link information to a sepparate column\n",
    "gdf_graph_edges['link'] = False\n",
    "gdf_graph_edges.loc[gdf_graph_edges[gdf_graph_edges['highway'].str.contains('_')].index, 'link'] = True\n",
    "gdf_graph_edges.loc[:, 'highway'] = gdf_graph_edges.highway.str.split('_').apply(lambda l: l[0])\n",
    "print(gdf_graph_edges.shape)"
   ]
  },
  {
   "cell_type": "code",
   "execution_count": 19,
   "id": "c0957295-7454-4bce-a790-693f1c9e34c6",
   "metadata": {},
   "outputs": [
    {
     "name": "stdout",
     "output_type": "stream",
     "text": [
      "(63221, 12)\n"
     ]
    }
   ],
   "source": [
    "# Add geographical information as coordinates of linestring representative point\n",
    "gdf_graph_edges['repr_lon'] = gdf_graph_edges['geometry'].to_crs('EPSG:23700').representative_point().x\n",
    "gdf_graph_edges['repr_lat'] = gdf_graph_edges['geometry'].to_crs('EPSG:23700').representative_point().y\n",
    "print(gdf_graph_edges.shape)"
   ]
  },
  {
   "cell_type": "code",
   "execution_count": 20,
   "id": "b10cc100-d954-41ce-90a2-fe559e8ca0af",
   "metadata": {
    "scrolled": true
   },
   "outputs": [
    {
     "name": "stderr",
     "output_type": "stream",
     "text": [
      "100%|██████████| 63599/63599 [00:53<00:00, 1193.53it/s]\n",
      "100%|██████████| 155/155 [00:09<00:00, 15.55it/s]\n"
     ]
    },
    {
     "name": "stdout",
     "output_type": "stream",
     "text": [
      "(63599, 12)\n",
      "(63599, 20)\n",
      "63599\n"
     ]
    }
   ],
   "source": [
    "# Convert CUT directed road network gdf back to graph\n",
    "\n",
    "def node_name_logic(edge_ls, graph, eps=1e-3):\n",
    "    from_node_no = int(edge_ls['gnx_edge_id'][0])\n",
    "    if np.abs(graph.nodes[from_node_no]['x'] - shapely.get_point(edge_ls.geometry, 0).x) > eps or \\\n",
    "        np.abs(graph.nodes[from_node_no]['y'] - shapely.get_point(edge_ls.geometry, 0).y) > eps:\n",
    "        # introduce new node id if non-existent in OSM road network\n",
    "        from_node_no = f'CUT_{edge_ls.name}_{from_node_no}'\n",
    "    edge_ls['FROMNODENO'] = from_node_no\n",
    "\n",
    "    to_node_no = int(edge_ls['gnx_edge_id'][1])\n",
    "    if np.abs(graph.nodes[to_node_no]['x'] - shapely.get_point(edge_ls.geometry, -1).x) > eps or \\\n",
    "        np.abs(graph.nodes[to_node_no]['y'] - shapely.get_point(edge_ls.geometry, -1).y) > eps:\n",
    "        # introduce new node id if non-existent in OSM road network\n",
    "        to_node_no = f'CUT_{edge_ls.name}_{to_node_no}'\n",
    "    edge_ls['TONODENO'] = to_node_no\n",
    "\n",
    "    edge_ls['KEY'] = int(edge_ls['gnx_edge_id'][2])\n",
    "\n",
    "    return edge_ls\n",
    "\n",
    "\n",
    "def derive_node_gdf_from_osm_lines(edges):\n",
    "    edges[\"geom1\"] = shapely.get_point(edges.geometry, 0)\n",
    "    edges[\"geom2\"] = shapely.get_point(edges.geometry, -1)\n",
    "\n",
    "    fromnode = edges.groupby(['FROMNODENO','geom1']).size().reset_index()\n",
    "    tonode = edges.groupby(['TONODENO','geom2']).size().reset_index()\n",
    "\n",
    "    nodes = pd.DataFrame(np.concatenate((fromnode.values, tonode.values), axis=0), columns=['osmid', 'geometry', 'size'])\n",
    "    nodes = gpd.GeoDataFrame(nodes.drop_duplicates(subset='osmid'), geometry='geometry')\n",
    "    nodes.drop(columns=['size'], inplace=True)   # it is ambiguous as calculated above - size_in / size_out would be correct \n",
    "\n",
    "    nodes['x'] = nodes.geometry.x\n",
    "    nodes['y'] = nodes.geometry.y\n",
    "    \n",
    "    return nodes.set_index('osmid')\n",
    "\n",
    "\n",
    "def create_edge_gdf_from_osm_lines(edges, attribute_cols):\n",
    "    edges['u'] = edges['FROMNODENO']\n",
    "    edges['v'] = edges['TONODENO']\n",
    "    edges['key'] = edges['KEY']\n",
    "\n",
    "    edges = edges[['u', 'v', 'key', 'geometry'] + attribute_cols]\n",
    "    return edges.set_index(['u', 'v', 'key'])\n",
    "\n",
    "\n",
    "def replace_node_ids_with_value(edge_id, to_replace, value):\n",
    "    edge_id = list(edge_id)\n",
    "    if edge_id[0] == to_replace:\n",
    "        edge_id[0] = value\n",
    "    if edge_id[1] == to_replace:\n",
    "        edge_id[1] = value\n",
    "    return tuple(edge_id)\n",
    "\n",
    "\n",
    "# Explode MultiLineStrings resulted by overlay to LineStrings\n",
    "gdf_graph_edges = gdf_graph_edges.explode(index_parts=False)\n",
    "gdf_graph_edges.reset_index(inplace=True, drop=True)\n",
    "\n",
    "attribute_cols = gdf_graph_edges.columns[1:-1].to_list()\n",
    "\n",
    "gdf_bp_edges = gdf_graph_edges.progress_apply(lambda row: node_name_logic(row, graph), axis=1)\n",
    "gdf_graph_edges['gnx_edge_id'] = list(zip(gdf_bp_edges['FROMNODENO'], gdf_bp_edges['TONODENO'], gdf_bp_edges['KEY']))\n",
    "\n",
    "gdf_nodes = derive_node_gdf_from_osm_lines(gdf_bp_edges)\n",
    "gdf_edges = create_edge_gdf_from_osm_lines(gdf_bp_edges, attribute_cols=attribute_cols)\n",
    "\n",
    "# Drop redundant nodes obtained by CUTTING - nodes with same coordinates, but different ids\n",
    "df = gdf_nodes[gdf_nodes.index.get_level_values('osmid').astype(str).str.contains('CUT')]\n",
    "redundant_node_list = list(filter(lambda t: len(t)>1, df.groupby(list(df))['geometry'].apply(lambda x: tuple(x.index)).tolist()))\n",
    "for group in tqdm(redundant_node_list):\n",
    "    for node in group[1:]:\n",
    "        gdf_nodes.drop(node, inplace=True)\n",
    "        gdf_edges.index = list(map(lambda edge_id: replace_node_ids_with_value(edge_id, node, group[0]), gdf_edges.index.tolist()))\n",
    "        gdf_graph_edges['gnx_edge_id'] = gdf_graph_edges['gnx_edge_id'].apply(lambda edge_id: replace_node_ids_with_value(edge_id, node, group[0]))\n",
    "\n",
    "# Increase key - 3rd tuple component - of duplicated edge ids\n",
    "gdf_edges = gdf_edges.reset_index()\n",
    "while gdf_edges[gdf_edges['index'].duplicated()].shape[0]:\n",
    "    gdf_edges.loc[gdf_edges[gdf_edges['index'].duplicated()].index, 'index'] = gdf_edges.loc[gdf_edges[gdf_edges['index'].duplicated()].index, 'index'].apply(lambda row: (row[0], row[1], row[2]+1))\n",
    "gdf_edges.set_index('index', inplace=True)\n",
    "while gdf_graph_edges[gdf_graph_edges['gnx_edge_id'].duplicated()].shape[0]:\n",
    "    gdf_graph_edges.loc[gdf_graph_edges[gdf_graph_edges['gnx_edge_id'].duplicated()].index, 'gnx_edge_id'] = gdf_graph_edges.loc[gdf_graph_edges[gdf_graph_edges['gnx_edge_id'].duplicated()].index, 'gnx_edge_id'].apply(lambda row: (row[0], row[1], row[2]+1))\n",
    "\n",
    "# # Add osmid field to gdf_edges for later to_undirected conversion\n",
    "# gdf_edges = gdf_edges.reset_index()\n",
    "# gdf_edges['osmid'] = gdf_edges['index'].astype(str)\n",
    "# gdf_edges = gdf_edges.set_index('index')\n",
    "\n",
    "graph_bp_edges = ox.convert.graph_from_gdfs(gdf_nodes, gdf_edges, graph_attrs=None)\n",
    "\n",
    "print(gdf_graph_edges.shape)\n",
    "print(gdf_bp_edges.shape)\n",
    "print(len(graph_bp_edges.edges))"
   ]
  },
  {
   "cell_type": "code",
   "execution_count": 21,
   "id": "5966a11f-670d-448a-b08e-712eee9913fe",
   "metadata": {},
   "outputs": [
    {
     "name": "stderr",
     "output_type": "stream",
     "text": [
      "100%|██████████| 10159/10159 [00:13<00:00, 737.00it/s]\n"
     ]
    }
   ],
   "source": [
    "# Change order of FROM- and TONODE elements of gnx_edge_id for oneway streets that have been changed in the graph by the to_undirected\n",
    "def change_edge_id_by_graph_node_order(row):\n",
    "    if row[0] in list(graph_bp_edges.nodes) and row[1] in list(graph_bp_edges.nodes) and\\\n",
    "                list(graph_bp_edges.nodes).index(row[0]) > list(graph_bp_edges.nodes).index(row[1]):\n",
    "        return (row[1], row[0], row[2])\n",
    "    return row\n",
    "gdf_graph_edges.loc[gdf_graph_edges[gdf_graph_edges['oneway']].index, 'gnx_edge_id'] = gdf_graph_edges[gdf_graph_edges['oneway']]['gnx_edge_id'].progress_apply(change_edge_id_by_graph_node_order)"
   ]
  },
  {
   "cell_type": "code",
   "execution_count": 22,
   "id": "917e5d4e-ce4b-4926-9dc8-08c3940c0c80",
   "metadata": {
    "scrolled": true
   },
   "outputs": [
    {
     "name": "stdout",
     "output_type": "stream",
     "text": [
      "36879\n",
      "(36739, 12)\n",
      "36647\n",
      "(36513, 12)\n"
     ]
    }
   ],
   "source": [
    "# Keep only the largest fully connected graph from the road network\n",
    "graph_u = ox.convert.to_undirected(graph_bp_edges)\n",
    "S = [graph_u.subgraph(c).copy() for c in nx.connected_components(graph_u)]\n",
    "max_comp = S[np.argmax([len(g.edges) for g in S])]\n",
    "max_comp_edges = list(max_comp.edges)\n",
    "gdf_graph_edges_whole_undir = gdf_graph_edges[gdf_graph_edges['gnx_edge_id'].isin(list(graph_u.edges))].copy()\n",
    "gdf_graph_edges_conn_undir = gdf_graph_edges[gdf_graph_edges['gnx_edge_id'].isin(max_comp_edges)].copy()\n",
    "print(len(graph_u.edges))\n",
    "print(gdf_graph_edges_whole_undir.shape)\n",
    "print(len(max_comp.edges))\n",
    "print(gdf_graph_edges_conn_undir.shape)"
   ]
  },
  {
   "cell_type": "code",
   "execution_count": 23,
   "id": "464658fb-fe89-471c-b459-2d0bf7521c0c",
   "metadata": {
    "scrolled": true
   },
   "outputs": [
    {
     "name": "stdout",
     "output_type": "stream",
     "text": [
      "36484\n",
      "(36484, 11)\n",
      "36710\n",
      "(36710, 11)\n"
     ]
    }
   ],
   "source": [
    "# Convert gdfs to graph once more to get rid of remaining anomalies\n",
    "df = gdf_graph_edges_conn_undir.copy()\n",
    "df['FROMNODENO'] = df['gnx_edge_id'].apply(lambda t: t[0])\n",
    "df['TONODENO'] = df['gnx_edge_id'].apply(lambda t: t[1])\n",
    "df['KEY'] = df['gnx_edge_id'].apply(lambda t: t[2])\n",
    "gdf_nodes = derive_node_gdf_from_osm_lines(df)\n",
    "gdf_edges = create_edge_gdf_from_osm_lines(df, attribute_cols=attribute_cols)\n",
    "graph_conn = ox.convert.graph_from_gdfs(gdf_nodes, gdf_edges, graph_attrs=None)\n",
    "gdf_graph_edges_conn_undir = ox.convert.graph_to_gdfs(graph_conn, nodes=False)\n",
    "gdf_graph_edges_conn_undir.reset_index(inplace=True)\n",
    "gdf_graph_edges_conn_undir['gnx_edge_id'] = gdf_graph_edges_conn_undir.apply(lambda row: (row['u'], row['v'], row['key']), axis=1)\n",
    "gdf_graph_edges_conn_undir.drop(columns=['u', 'v', 'key', 'osmid'], inplace=True)\n",
    "\n",
    "df = gdf_graph_edges_whole_undir.copy()\n",
    "df['FROMNODENO'] = df['gnx_edge_id'].apply(lambda t: t[0])\n",
    "df['TONODENO'] = df['gnx_edge_id'].apply(lambda t: t[1])\n",
    "df['KEY'] = df['gnx_edge_id'].apply(lambda t: t[2])\n",
    "gdf_nodes = derive_node_gdf_from_osm_lines(df)\n",
    "gdf_edges = create_edge_gdf_from_osm_lines(df, attribute_cols=attribute_cols)\n",
    "graph_whole = ox.convert.graph_from_gdfs(gdf_nodes, gdf_edges, graph_attrs=None)\n",
    "gdf_graph_edges_whole_undir = ox.convert.graph_to_gdfs(graph_whole, nodes=False)\n",
    "gdf_graph_edges_whole_undir.reset_index(inplace=True)\n",
    "gdf_graph_edges_whole_undir['gnx_edge_id'] = gdf_graph_edges_whole_undir.apply(lambda row: (row['u'], row['v'], row['key']), axis=1)\n",
    "gdf_graph_edges_whole_undir.drop(columns=['u', 'v', 'key', 'osmid'], inplace=True)\n",
    "\n",
    "print(len(graph_conn.edges))\n",
    "print(gdf_graph_edges_conn_undir.shape)\n",
    "print(len(graph_whole.edges))\n",
    "print(gdf_graph_edges_whole_undir.shape)"
   ]
  },
  {
   "cell_type": "code",
   "execution_count": 24,
   "id": "044b1fa7-14f6-473d-bd21-51bf28729337",
   "metadata": {},
   "outputs": [
    {
     "name": "stdout",
     "output_type": "stream",
     "text": [
      "62889\n",
      "(62889, 11)\n"
     ]
    }
   ],
   "source": [
    "# Get largest fully connected graph as directed gnx graph\n",
    "max_comp_edges_dir = max_comp_edges + [(tup[1], tup[0], tup[2]) for tup in max_comp_edges]  # Add swapped indexes for directed graph\n",
    "gdf_graph_edges_dir = gdf_graph_edges[gdf_graph_edges['gnx_edge_id'].isin(max_comp_edges_dir)].copy()\n",
    "\n",
    "gdf_graph_edges_dir['FROMNODENO'] = gdf_graph_edges_dir['gnx_edge_id'].apply(lambda x: x[0])\n",
    "gdf_graph_edges_dir['TONODENO'] = gdf_graph_edges_dir['gnx_edge_id'].apply(lambda x: x[1])\n",
    "gdf_graph_edges_dir['KEY'] = gdf_graph_edges_dir['gnx_edge_id'].apply(lambda x: x[2])\n",
    "\n",
    "gdf_nodes = derive_node_gdf_from_osm_lines(gdf_graph_edges_dir)\n",
    "gdf_edges = create_edge_gdf_from_osm_lines(gdf_graph_edges_dir, attribute_cols=attribute_cols)\n",
    "\n",
    "graph_bp_edges_dir = ox.convert.graph_from_gdfs(gdf_nodes, gdf_edges, graph_attrs=None)\n",
    "\n",
    "gdf_dir = ox.convert.graph_to_gdfs(graph_bp_edges_dir, nodes=False)\n",
    "\n",
    "print(len(graph_bp_edges_dir.edges))\n",
    "print(gdf_dir.shape)"
   ]
  },
  {
   "cell_type": "code",
   "execution_count": 25,
   "id": "34884271-3478-4f32-943e-30e959be4645",
   "metadata": {},
   "outputs": [],
   "source": [
    "# Save processed largest connected component road network as geojson\n",
    "gdf_graph_edges_conn_undir['gnx_edge_id'] = gdf_graph_edges_conn_undir['gnx_edge_id'].astype(str)\n",
    "today = date.today().strftime('%d-%m-%Y')\n",
    "out_path = os.path.join(DATA_PATH, 'OSM_road_network')\n",
    "if not os.path.exists(out_path):\n",
    "    os.makedirs(out_path)\n",
    "gdf_graph_edges_conn_undir.to_file(os.path.join(out_path, f'GDF_BP-network-conn-undir.json'), driver='GeoJSON')"
   ]
  },
  {
   "cell_type": "code",
   "execution_count": 26,
   "id": "f11e93f3-a241-4e70-aa6e-d420330abd51",
   "metadata": {},
   "outputs": [],
   "source": [
    "# Save processed largest connected component road network as geojson\n",
    "gdf_graph_edges_whole_undir['gnx_edge_id'] = gdf_graph_edges_whole_undir['gnx_edge_id'].astype(str)\n",
    "gdf_graph_edges_whole_undir.to_file(os.path.join(out_path, f'GDF_BP-network-whole-undir.json'), driver='GeoJSON')"
   ]
  },
  {
   "cell_type": "code",
   "execution_count": 27,
   "id": "bb218a49-8850-4119-9a5c-bcee5250fa17",
   "metadata": {},
   "outputs": [],
   "source": [
    "# Save processed largest connected component road network as directed gnx graph\n",
    "pickle.dump(graph_bp_edges_dir, open(os.path.join(out_path, f'GNX_BP-network-conn-dir.json'), 'wb'))"
   ]
  },
  {
   "cell_type": "code",
   "execution_count": 28,
   "id": "ad6e43fc-841e-4108-8e46-42e14b44069c",
   "metadata": {},
   "outputs": [],
   "source": [
    "# Save processed largest connected component road network as directed gnx graph\n",
    "pickle.dump(graph_bp_edges, open(os.path.join(out_path, f'GNX_BP-network-whole-dir.json'), 'wb'))"
   ]
  }
 ],
 "metadata": {
  "kernelspec": {
   "display_name": "Python 3.11 (default)",
   "language": "python",
   "name": "python3"
  },
  "language_info": {
   "codemirror_mode": {
    "name": "ipython",
    "version": 3
   },
   "file_extension": ".py",
   "mimetype": "text/x-python",
   "name": "python",
   "nbconvert_exporter": "python",
   "pygments_lexer": "ipython3",
   "version": "3.11.5"
  }
 },
 "nbformat": 4,
 "nbformat_minor": 5
}
