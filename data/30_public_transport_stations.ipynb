{
 "cells": [
  {
   "cell_type": "code",
   "execution_count": null,
   "id": "cc3980a7-111c-4966-878d-8b73adf6224a",
   "metadata": {},
   "outputs": [],
   "source": [
    "import geopandas as gpd\n",
    "import os\n",
    "from datetime import date\n",
    "\n",
    "SHARED_PROJECT_PATH = '...'\n",
    "SHARED_PROJECT_PATH_POLY = '...'"
   ]
  },
  {
   "cell_type": "code",
   "execution_count": null,
   "id": "e4e4de87-fa95-419e-97a6-9203549f4c80",
   "metadata": {},
   "outputs": [],
   "source": [
    "# Read EFM stations data\n",
    "gdf_stations = gpd.read_file(os.path.join(SHARED_PROJECT_PATH, 'data', 'EFM_stations', 'EFM_stoppoints.geojson'))"
   ]
  },
  {
   "cell_type": "code",
   "execution_count": null,
   "id": "ba265911-83a5-4795-882f-c2675e941afd",
   "metadata": {},
   "outputs": [],
   "source": [
    "# Read processed OSM raod network data\n",
    "today = date.today().strftime('%d-%m-%Y')\n",
    "gdf_graph_edges = gpd.read_file(os.path.join(SHARED_PROJECT_PATH, 'data', 'OSM_road_network', today, f'BP_safety-network_{today}.json'), driver='GeoJSON')"
   ]
  },
  {
   "cell_type": "code",
   "execution_count": null,
   "id": "a00cbc87-c8a7-4b39-a743-6685ce718967",
   "metadata": {},
   "outputs": [],
   "source": [
    "# Add EFM station data to OSM road network as number of stations in a road segment buffer\n",
    "gdf_graph_edges_buff = gdf_graph_edges.copy()\n",
    "gdf_graph_edges_buff.geometry = gdf_graph_edges_buff.geometry.buffer(25, cap_style=2)\n",
    "gdf_res = gpd.sjoin(gdf_graph_edges_buff[['gnx_edge_id', 'geometry']], gdf_stations[['TSYSSET', 'geometry']], how='inner', predicate='intersects')\n",
    "gdf_graph_edges = gdf_graph_edges.merge(gdf_res.groupby('gnx_edge_id').size().to_frame().reset_index().rename(columns={0: 'nearby_station_no'}), on='gnx_edge_id', how='left')\n",
    "gdf_graph_edges.fillna({'nearby_station_no': 0}, inplace=True)"
   ]
  },
  {
   "cell_type": "code",
   "execution_count": null,
   "id": "9f858ea7-957a-4412-8e59-7e7df301163e",
   "metadata": {},
   "outputs": [],
   "source": [
    "# Save road safety network with EFM station numbers as geojson\n",
    "gdf_graph_edges.to_file(os.path.join(SHARED_PROJECT_PATH, 'data', 'OSM_road_network', today, f'BP_safety-network_{today}.json'), driver='GeoJSON')"
   ]
  }
 ],
 "metadata": {
  "kernelspec": {
   "display_name": "Python 3 (ipykernel)",
   "language": "python",
   "name": "python3"
  },
  "language_info": {
   "codemirror_mode": {
    "name": "ipython",
    "version": 3
   },
   "file_extension": ".py",
   "mimetype": "text/x-python",
   "name": "python",
   "nbconvert_exporter": "python",
   "pygments_lexer": "ipython3",
   "version": "3.11.9"
  }
 },
 "nbformat": 4,
 "nbformat_minor": 5
}
