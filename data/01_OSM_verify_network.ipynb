{
 "cells": [
  {
   "cell_type": "code",
   "execution_count": 1,
   "id": "e818cf6d-15db-438a-86c4-708de484580b",
   "metadata": {},
   "outputs": [],
   "source": [
    "import os\n",
    "import geopandas as gpd\n",
    "import pickle\n",
    "from datetime import date\n",
    "from tqdm import tqdm\n",
    "\n",
    "tqdm.pandas()\n",
    "\n",
    "DATA_PATH = './data'"
   ]
  },
  {
   "cell_type": "code",
   "execution_count": 2,
   "id": "981b77cf-c28e-4c3d-8bdd-7e8e53463bf0",
   "metadata": {},
   "outputs": [],
   "source": [
    "today = date.today().strftime('%d-%m-%Y')\n",
    "out_path = os.path.join(DATA_PATH, 'OSM_road_network')\n",
    "\n",
    "gdf_graph_edges_conn_undir = gpd.read_file(os.path.join(out_path, f'GDF_BP-network-conn-undir.json'))\n",
    "graph_bp_edges_dir = pickle.load(open(os.path.join(out_path, f'GNX_BP-network-conn-dir.json'), 'rb'))"
   ]
  },
  {
   "cell_type": "markdown",
   "id": "b51afd3a-5fdf-4768-a1cd-e03dfbc8966c",
   "metadata": {},
   "source": [
    "---\n",
    "\n",
    "## All graph edges have all attributes - e.g. link attribute is there"
   ]
  },
  {
   "cell_type": "code",
   "execution_count": 3,
   "id": "4917b7f6-9132-498e-a8b6-0c60974bf766",
   "metadata": {},
   "outputs": [
    {
     "data": {
      "text/plain": [
       "{'geometry': <LINESTRING (19.221 47.44, 19.22 47.44, 19.22 47.44, 19.22 47.44)>,\n",
       " 'osmid': 37244,\n",
       " 'highway': 'unclassified',\n",
       " 'maxspeed': '50',\n",
       " 'oneway': True,\n",
       " 'length': 37.763000000000005,\n",
       " 'lit': 'yes',\n",
       " 'surface': 'asphalt',\n",
       " 'link': False,\n",
       " 'repr_lon': 663050.5423291762,\n",
       " 'repr_lat': 232905.50863739836}"
      ]
     },
     "execution_count": 3,
     "metadata": {},
     "output_type": "execute_result"
    }
   ],
   "source": [
    "graph_bp_edges_dir.edges[(9515749, 502897904, 0)]"
   ]
  },
  {
   "cell_type": "code",
   "execution_count": 4,
   "id": "0d3fd901-9bec-4b8d-b737-efa01a883a38",
   "metadata": {},
   "outputs": [
    {
     "data": {
      "text/html": [
       "<div>\n",
       "<style scoped>\n",
       "    .dataframe tbody tr th:only-of-type {\n",
       "        vertical-align: middle;\n",
       "    }\n",
       "\n",
       "    .dataframe tbody tr th {\n",
       "        vertical-align: top;\n",
       "    }\n",
       "\n",
       "    .dataframe thead th {\n",
       "        text-align: right;\n",
       "    }\n",
       "</style>\n",
       "<table border=\"1\" class=\"dataframe\">\n",
       "  <thead>\n",
       "    <tr style=\"text-align: right;\">\n",
       "      <th></th>\n",
       "      <th>highway</th>\n",
       "      <th>maxspeed</th>\n",
       "      <th>oneway</th>\n",
       "      <th>length</th>\n",
       "      <th>lit</th>\n",
       "      <th>surface</th>\n",
       "      <th>link</th>\n",
       "      <th>repr_lon</th>\n",
       "      <th>repr_lat</th>\n",
       "      <th>gnx_edge_id</th>\n",
       "      <th>geometry</th>\n",
       "    </tr>\n",
       "  </thead>\n",
       "  <tbody>\n",
       "    <tr>\n",
       "      <th>0</th>\n",
       "      <td>unclassified</td>\n",
       "      <td>50</td>\n",
       "      <td>True</td>\n",
       "      <td>37.763</td>\n",
       "      <td>yes</td>\n",
       "      <td>asphalt</td>\n",
       "      <td>False</td>\n",
       "      <td>663050.542329</td>\n",
       "      <td>232905.508637</td>\n",
       "      <td>(9515749, 502897904, 0)</td>\n",
       "      <td>LINESTRING (19.22072 47.44008, 19.22047 47.439...</td>\n",
       "    </tr>\n",
       "    <tr>\n",
       "      <th>1</th>\n",
       "      <td>unclassified</td>\n",
       "      <td>50</td>\n",
       "      <td>True</td>\n",
       "      <td>69.843</td>\n",
       "      <td>yes</td>\n",
       "      <td>asphalt</td>\n",
       "      <td>False</td>\n",
       "      <td>663032.114808</td>\n",
       "      <td>232916.285357</td>\n",
       "      <td>(9515749, 304982587, 0)</td>\n",
       "      <td>LINESTRING (19.22072 47.44008, 19.22041 47.440...</td>\n",
       "    </tr>\n",
       "    <tr>\n",
       "      <th>2</th>\n",
       "      <td>unclassified</td>\n",
       "      <td>50</td>\n",
       "      <td>True</td>\n",
       "      <td>36.095</td>\n",
       "      <td>yes</td>\n",
       "      <td>asphalt</td>\n",
       "      <td>False</td>\n",
       "      <td>663068.998673</td>\n",
       "      <td>232915.921782</td>\n",
       "      <td>(9515749, 704478994, 0)</td>\n",
       "      <td>LINESTRING (19.22115 47.44022, 19.22072 47.44008)</td>\n",
       "    </tr>\n",
       "    <tr>\n",
       "      <th>3</th>\n",
       "      <td>unclassified</td>\n",
       "      <td>50</td>\n",
       "      <td>True</td>\n",
       "      <td>10.286</td>\n",
       "      <td>yes</td>\n",
       "      <td>asphalt</td>\n",
       "      <td>False</td>\n",
       "      <td>663043.130528</td>\n",
       "      <td>232890.628392</td>\n",
       "      <td>(502897904, 502897905, 0)</td>\n",
       "      <td>LINESTRING (19.22037 47.43986, 19.22036 47.43976)</td>\n",
       "    </tr>\n",
       "    <tr>\n",
       "      <th>4</th>\n",
       "      <td>primary</td>\n",
       "      <td>50</td>\n",
       "      <td>True</td>\n",
       "      <td>55.457</td>\n",
       "      <td>yes</td>\n",
       "      <td>asphalt</td>\n",
       "      <td>False</td>\n",
       "      <td>663000.655257</td>\n",
       "      <td>232926.422113</td>\n",
       "      <td>(502897904, 304982587, 0)</td>\n",
       "      <td>LINESTRING (19.22037 47.43986, 19.21981 47.44018)</td>\n",
       "    </tr>\n",
       "  </tbody>\n",
       "</table>\n",
       "</div>"
      ],
      "text/plain": [
       "        highway maxspeed  oneway  length  lit  surface   link       repr_lon  \\\n",
       "0  unclassified       50    True  37.763  yes  asphalt  False  663050.542329   \n",
       "1  unclassified       50    True  69.843  yes  asphalt  False  663032.114808   \n",
       "2  unclassified       50    True  36.095  yes  asphalt  False  663068.998673   \n",
       "3  unclassified       50    True  10.286  yes  asphalt  False  663043.130528   \n",
       "4       primary       50    True  55.457  yes  asphalt  False  663000.655257   \n",
       "\n",
       "        repr_lat                gnx_edge_id  \\\n",
       "0  232905.508637    (9515749, 502897904, 0)   \n",
       "1  232916.285357    (9515749, 304982587, 0)   \n",
       "2  232915.921782    (9515749, 704478994, 0)   \n",
       "3  232890.628392  (502897904, 502897905, 0)   \n",
       "4  232926.422113  (502897904, 304982587, 0)   \n",
       "\n",
       "                                            geometry  \n",
       "0  LINESTRING (19.22072 47.44008, 19.22047 47.439...  \n",
       "1  LINESTRING (19.22072 47.44008, 19.22041 47.440...  \n",
       "2  LINESTRING (19.22115 47.44022, 19.22072 47.44008)  \n",
       "3  LINESTRING (19.22037 47.43986, 19.22036 47.43976)  \n",
       "4  LINESTRING (19.22037 47.43986, 19.21981 47.44018)  "
      ]
     },
     "execution_count": 4,
     "metadata": {},
     "output_type": "execute_result"
    }
   ],
   "source": [
    "gdf_graph_edges_conn_undir.head()"
   ]
  },
  {
   "cell_type": "markdown",
   "id": "fbb2b79a-2ae3-4cc6-9863-05ccb13b9e4a",
   "metadata": {},
   "source": [
    "---\n",
    "\n",
    "## All graph edges CAN BE and GET projected to gdf"
   ]
  },
  {
   "cell_type": "markdown",
   "id": "ce7fc0c2-48e0-488f-83ca-7f1f0db87fa0",
   "metadata": {},
   "source": [
    "### No duplicate edge ids in graph"
   ]
  },
  {
   "cell_type": "code",
   "execution_count": 5,
   "id": "d0d7d31f-9a94-4d26-af4d-b3144b117819",
   "metadata": {},
   "outputs": [],
   "source": [
    "graph_edges = list(graph_bp_edges_dir.edges)"
   ]
  },
  {
   "cell_type": "code",
   "execution_count": 6,
   "id": "cd678822-5754-4b98-9a2f-12aabbd2c351",
   "metadata": {},
   "outputs": [],
   "source": [
    "graph_edges_set = set(graph_edges)"
   ]
  },
  {
   "cell_type": "code",
   "execution_count": 7,
   "id": "44ed6e1a-e38b-42f2-ae35-0d4609255b7e",
   "metadata": {},
   "outputs": [],
   "source": [
    "assert len(graph_edges) == len(graph_edges_set)"
   ]
  },
  {
   "cell_type": "markdown",
   "id": "fea9d9f1-22aa-43cd-a073-d82ccfd32b86",
   "metadata": {},
   "source": [
    "### All dir graph ids have undir gdf id pairs"
   ]
  },
  {
   "cell_type": "code",
   "execution_count": 8,
   "id": "35ad307d-4187-4c67-a4bc-f1f8e8d0f4fd",
   "metadata": {},
   "outputs": [],
   "source": [
    "def gnx_edge_id_str_to_tuple(s):\n",
    "    l = s[1:-1].split(', ')\n",
    "    for i in range(len(l)):\n",
    "        try:\n",
    "            l[i] = int(l[i])\n",
    "        except:\n",
    "            l[i] = l[i][1:-1]\n",
    "    return tuple(l)"
   ]
  },
  {
   "cell_type": "code",
   "execution_count": 9,
   "id": "551a1013-415d-4a70-94c4-bb59111f35ff",
   "metadata": {},
   "outputs": [],
   "source": [
    "gdf_edges = gdf_graph_edges_conn_undir['gnx_edge_id'].apply(gnx_edge_id_str_to_tuple).to_list() +\\\n",
    "            gdf_graph_edges_conn_undir[~gdf_graph_edges_conn_undir['oneway']]['gnx_edge_id'].apply(gnx_edge_id_str_to_tuple).apply(lambda t: (t[1], t[0], t[2])).to_list()\n",
    "gdf_edges_set = set(gdf_edges)"
   ]
  },
  {
   "cell_type": "code",
   "execution_count": 10,
   "id": "520281d2-3190-4142-bb5c-3af181a16170",
   "metadata": {},
   "outputs": [],
   "source": [
    "assert len(gdf_edges_set.intersection(graph_edges_set)) == len(gdf_edges_set)"
   ]
  },
  {
   "cell_type": "markdown",
   "id": "bd0f6d52-8c5e-451d-ac61-14981831ef88",
   "metadata": {},
   "source": [
    "### Duplicates - circular road segments (origin = destination)"
   ]
  },
  {
   "cell_type": "code",
   "execution_count": 11,
   "id": "722217e7-2505-4761-a80c-093114bf10be",
   "metadata": {},
   "outputs": [
    {
     "data": {
      "text/plain": [
       "7"
      ]
     },
     "execution_count": 11,
     "metadata": {},
     "output_type": "execute_result"
    }
   ],
   "source": [
    "gdf_all_set = set(gdf_graph_edges_conn_undir['gnx_edge_id'].apply(gnx_edge_id_str_to_tuple).to_list())\n",
    "gdf_undir_rev_set = set(gdf_graph_edges_conn_undir[~gdf_graph_edges_conn_undir['oneway']]['gnx_edge_id'].apply(gnx_edge_id_str_to_tuple).apply(lambda t: (t[1], t[0], t[2])).to_list())\n",
    "len(gdf_all_set.intersection(gdf_undir_rev_set))"
   ]
  },
  {
   "cell_type": "code",
   "execution_count": 12,
   "id": "7bab8c02-8842-4937-9f30-88ffbea82d5d",
   "metadata": {},
   "outputs": [
    {
     "data": {
      "text/html": [
       "<div>\n",
       "<style scoped>\n",
       "    .dataframe tbody tr th:only-of-type {\n",
       "        vertical-align: middle;\n",
       "    }\n",
       "\n",
       "    .dataframe tbody tr th {\n",
       "        vertical-align: top;\n",
       "    }\n",
       "\n",
       "    .dataframe thead th {\n",
       "        text-align: right;\n",
       "    }\n",
       "</style>\n",
       "<table border=\"1\" class=\"dataframe\">\n",
       "  <thead>\n",
       "    <tr style=\"text-align: right;\">\n",
       "      <th></th>\n",
       "      <th>highway</th>\n",
       "      <th>maxspeed</th>\n",
       "      <th>oneway</th>\n",
       "      <th>length</th>\n",
       "      <th>lit</th>\n",
       "      <th>surface</th>\n",
       "      <th>link</th>\n",
       "      <th>repr_lon</th>\n",
       "      <th>repr_lat</th>\n",
       "      <th>gnx_edge_id</th>\n",
       "      <th>geometry</th>\n",
       "    </tr>\n",
       "  </thead>\n",
       "  <tbody>\n",
       "    <tr>\n",
       "      <th>1947</th>\n",
       "      <td>residential</td>\n",
       "      <td>30</td>\n",
       "      <td>False</td>\n",
       "      <td>343.244</td>\n",
       "      <td>yes</td>\n",
       "      <td>asphalt</td>\n",
       "      <td>False</td>\n",
       "      <td>661339.911226</td>\n",
       "      <td>233198.662033</td>\n",
       "      <td>(528612162, 528612162, 0)</td>\n",
       "      <td>LINESTRING (19.19671 47.44224, 19.19806 47.441...</td>\n",
       "    </tr>\n",
       "    <tr>\n",
       "      <th>24882</th>\n",
       "      <td>residential</td>\n",
       "      <td>30</td>\n",
       "      <td>False</td>\n",
       "      <td>55.595</td>\n",
       "      <td>yes</td>\n",
       "      <td>asphalt</td>\n",
       "      <td>False</td>\n",
       "      <td>654154.126851</td>\n",
       "      <td>240360.779997</td>\n",
       "      <td>(9269957275, 9269957275, 0)</td>\n",
       "      <td>LINESTRING (19.10256 47.50703, 19.10263 47.507...</td>\n",
       "    </tr>\n",
       "    <tr>\n",
       "      <th>25136</th>\n",
       "      <td>residential</td>\n",
       "      <td>30</td>\n",
       "      <td>False</td>\n",
       "      <td>418.086</td>\n",
       "      <td>yes</td>\n",
       "      <td>asphalt</td>\n",
       "      <td>False</td>\n",
       "      <td>646327.455731</td>\n",
       "      <td>239343.483855</td>\n",
       "      <td>(277674093, 277674093, 0)</td>\n",
       "      <td>LINESTRING (18.99983 47.49845, 18.99973 47.498...</td>\n",
       "    </tr>\n",
       "    <tr>\n",
       "      <th>32389</th>\n",
       "      <td>unclassified</td>\n",
       "      <td>40</td>\n",
       "      <td>False</td>\n",
       "      <td>119.623</td>\n",
       "      <td>yes</td>\n",
       "      <td>asphalt</td>\n",
       "      <td>False</td>\n",
       "      <td>650193.888712</td>\n",
       "      <td>242966.764843</td>\n",
       "      <td>(420302042, 420302042, 0)</td>\n",
       "      <td>LINESTRING (19.04978 47.53077, 19.04983 47.530...</td>\n",
       "    </tr>\n",
       "    <tr>\n",
       "      <th>35114</th>\n",
       "      <td>residential</td>\n",
       "      <td>50</td>\n",
       "      <td>False</td>\n",
       "      <td>234.762</td>\n",
       "      <td>yes</td>\n",
       "      <td>unpaved</td>\n",
       "      <td>False</td>\n",
       "      <td>649633.208479</td>\n",
       "      <td>227445.352141</td>\n",
       "      <td>(6111913476, 6111913476, 0)</td>\n",
       "      <td>LINESTRING (19.04314 47.39110, 19.04276 47.391...</td>\n",
       "    </tr>\n",
       "    <tr>\n",
       "      <th>35206</th>\n",
       "      <td>residential</td>\n",
       "      <td>30</td>\n",
       "      <td>False</td>\n",
       "      <td>1397.429</td>\n",
       "      <td>yes</td>\n",
       "      <td>unpaved</td>\n",
       "      <td>False</td>\n",
       "      <td>658385.999422</td>\n",
       "      <td>226703.506854</td>\n",
       "      <td>(4109417097, 4109417097, 0)</td>\n",
       "      <td>LINESTRING (19.15575 47.38579, 19.15508 47.385...</td>\n",
       "    </tr>\n",
       "    <tr>\n",
       "      <th>36306</th>\n",
       "      <td>residential</td>\n",
       "      <td>50</td>\n",
       "      <td>False</td>\n",
       "      <td>241.779</td>\n",
       "      <td>yes</td>\n",
       "      <td>asphalt</td>\n",
       "      <td>False</td>\n",
       "      <td>658342.753295</td>\n",
       "      <td>236247.646330</td>\n",
       "      <td>(4258284198, 4258284198, 0)</td>\n",
       "      <td>LINESTRING (19.15881 47.46959, 19.15812 47.470...</td>\n",
       "    </tr>\n",
       "  </tbody>\n",
       "</table>\n",
       "</div>"
      ],
      "text/plain": [
       "            highway maxspeed  oneway    length  lit  surface   link  \\\n",
       "1947    residential       30   False   343.244  yes  asphalt  False   \n",
       "24882   residential       30   False    55.595  yes  asphalt  False   \n",
       "25136   residential       30   False   418.086  yes  asphalt  False   \n",
       "32389  unclassified       40   False   119.623  yes  asphalt  False   \n",
       "35114   residential       50   False   234.762  yes  unpaved  False   \n",
       "35206   residential       30   False  1397.429  yes  unpaved  False   \n",
       "36306   residential       50   False   241.779  yes  asphalt  False   \n",
       "\n",
       "            repr_lon       repr_lat                  gnx_edge_id  \\\n",
       "1947   661339.911226  233198.662033    (528612162, 528612162, 0)   \n",
       "24882  654154.126851  240360.779997  (9269957275, 9269957275, 0)   \n",
       "25136  646327.455731  239343.483855    (277674093, 277674093, 0)   \n",
       "32389  650193.888712  242966.764843    (420302042, 420302042, 0)   \n",
       "35114  649633.208479  227445.352141  (6111913476, 6111913476, 0)   \n",
       "35206  658385.999422  226703.506854  (4109417097, 4109417097, 0)   \n",
       "36306  658342.753295  236247.646330  (4258284198, 4258284198, 0)   \n",
       "\n",
       "                                                geometry  \n",
       "1947   LINESTRING (19.19671 47.44224, 19.19806 47.441...  \n",
       "24882  LINESTRING (19.10256 47.50703, 19.10263 47.507...  \n",
       "25136  LINESTRING (18.99983 47.49845, 18.99973 47.498...  \n",
       "32389  LINESTRING (19.04978 47.53077, 19.04983 47.530...  \n",
       "35114  LINESTRING (19.04314 47.39110, 19.04276 47.391...  \n",
       "35206  LINESTRING (19.15575 47.38579, 19.15508 47.385...  \n",
       "36306  LINESTRING (19.15881 47.46959, 19.15812 47.470...  "
      ]
     },
     "execution_count": 12,
     "metadata": {},
     "output_type": "execute_result"
    }
   ],
   "source": [
    "gdf_graph_edges_conn_undir[gdf_graph_edges_conn_undir['gnx_edge_id'].isin(list(map(str, gdf_all_set.intersection(gdf_undir_rev_set))))]"
   ]
  },
  {
   "cell_type": "markdown",
   "id": "314b88fe-4bb6-4ce3-9dde-a52c7113ae39",
   "metadata": {},
   "source": [
    "### All dir graph id - undir gdf id pairs match (geometries)\n",
    "\n",
    "- oneway: same id both in gdf and graph\n",
    "- twoway: gdf id and inverse [(to, from, key)] in graph"
   ]
  },
  {
   "cell_type": "code",
   "execution_count": 13,
   "id": "60d51b09-3397-4f37-a02a-859c9fcc340c",
   "metadata": {},
   "outputs": [],
   "source": [
    "def verify_matching_geometries(edge_id, oneway):\n",
    "    t = gnx_edge_id_str_to_tuple(edge_id)\n",
    "    graph_geom = graph_bp_edges_dir.edges[t]['geometry']\n",
    "    gdf_geom = gdf_graph_edges_conn_undir[gdf_graph_edges_conn_undir['gnx_edge_id'] == edge_id].iloc[0].geometry\n",
    "    if oneway:\n",
    "        return (gdf_geom == graph_geom)  # geometry match\n",
    "    else:\n",
    "        t_rev = (t[1], t[0], t[2])\n",
    "        graph_geom_rev = graph_bp_edges_dir.edges[t_rev]['geometry']\n",
    "        return ((gdf_geom == graph_geom) & (gdf_geom.reverse() == graph_geom_rev)) | (t == t_rev)   # geometry + reverse geometry match or circular segment"
   ]
  },
  {
   "cell_type": "code",
   "execution_count": 14,
   "id": "b432ff29-7a75-418c-9250-8ef490b5e434",
   "metadata": {},
   "outputs": [
    {
     "name": "stderr",
     "output_type": "stream",
     "text": [
      "100%|██████████| 36484/36484 [01:14<00:00, 487.04it/s]\n"
     ]
    }
   ],
   "source": [
    "filt = gdf_graph_edges_conn_undir.progress_apply(lambda row: verify_matching_geometries(row['gnx_edge_id'], row['oneway']), axis=1)"
   ]
  },
  {
   "cell_type": "code",
   "execution_count": 15,
   "id": "d0469914-a3b5-4201-852e-24faa2b65342",
   "metadata": {},
   "outputs": [
    {
     "data": {
      "text/html": [
       "<div>\n",
       "<style scoped>\n",
       "    .dataframe tbody tr th:only-of-type {\n",
       "        vertical-align: middle;\n",
       "    }\n",
       "\n",
       "    .dataframe tbody tr th {\n",
       "        vertical-align: top;\n",
       "    }\n",
       "\n",
       "    .dataframe thead th {\n",
       "        text-align: right;\n",
       "    }\n",
       "</style>\n",
       "<table border=\"1\" class=\"dataframe\">\n",
       "  <thead>\n",
       "    <tr style=\"text-align: right;\">\n",
       "      <th></th>\n",
       "      <th>highway</th>\n",
       "      <th>maxspeed</th>\n",
       "      <th>oneway</th>\n",
       "      <th>length</th>\n",
       "      <th>lit</th>\n",
       "      <th>surface</th>\n",
       "      <th>link</th>\n",
       "      <th>repr_lon</th>\n",
       "      <th>repr_lat</th>\n",
       "      <th>gnx_edge_id</th>\n",
       "      <th>geometry</th>\n",
       "    </tr>\n",
       "  </thead>\n",
       "  <tbody>\n",
       "  </tbody>\n",
       "</table>\n",
       "</div>"
      ],
      "text/plain": [
       "Empty GeoDataFrame\n",
       "Columns: [highway, maxspeed, oneway, length, lit, surface, link, repr_lon, repr_lat, gnx_edge_id, geometry]\n",
       "Index: []"
      ]
     },
     "execution_count": 15,
     "metadata": {},
     "output_type": "execute_result"
    }
   ],
   "source": [
    "gdf_graph_edges_conn_undir[~filt]"
   ]
  },
  {
   "cell_type": "code",
   "execution_count": 16,
   "id": "c447f068-9c0c-4fb8-a23b-701867d30f31",
   "metadata": {},
   "outputs": [],
   "source": [
    "assert gdf_graph_edges_conn_undir[~filt].shape[0] == 0"
   ]
  }
 ],
 "metadata": {
  "kernelspec": {
   "display_name": "Python 3.11 (default)",
   "language": "python",
   "name": "python3"
  },
  "language_info": {
   "codemirror_mode": {
    "name": "ipython",
    "version": 3
   },
   "file_extension": ".py",
   "mimetype": "text/x-python",
   "name": "python",
   "nbconvert_exporter": "python",
   "pygments_lexer": "ipython3",
   "version": "3.11.5"
  }
 },
 "nbformat": 4,
 "nbformat_minor": 5
}
