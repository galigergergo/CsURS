{
 "cells": [
  {
   "cell_type": "code",
   "execution_count": null,
   "id": "e818cf6d-15db-438a-86c4-708de484580b",
   "metadata": {},
   "outputs": [],
   "source": [
    "import os\n",
    "import geopandas as gpd\n",
    "import pickle\n",
    "from datetime import date\n",
    "from tqdm import tqdm\n",
    "\n",
    "tqdm.pandas()\n",
    "\n",
    "SHARED_PROJECT_PATH = '...'"
   ]
  },
  {
   "cell_type": "code",
   "execution_count": null,
   "id": "981b77cf-c28e-4c3d-8bdd-7e8e53463bf0",
   "metadata": {},
   "outputs": [],
   "source": [
    "today = date.today().strftime('%d-%m-%Y')\n",
    "out_path = os.path.join(SHARED_PROJECT_PATH, 'data', 'OSM_road_network', today)\n",
    "\n",
    "gdf_graph_edges_conn_undir = gpd.read_file(os.path.join(out_path, f'GDF_BP-network-conn-undir_{today}.json'))\n",
    "graph_bp_edges_dir = pickle.load(open(os.path.join(out_path, f'GNX_BP-network-conn-dir_{today}.json'), 'rb'))"
   ]
  },
  {
   "cell_type": "markdown",
   "id": "b51afd3a-5fdf-4768-a1cd-e03dfbc8966c",
   "metadata": {},
   "source": [
    "---\n",
    "\n",
    "## All graph edges have all attributes - e.g. link attribute is there"
   ]
  },
  {
   "cell_type": "code",
   "execution_count": null,
   "id": "4917b7f6-9132-498e-a8b6-0c60974bf766",
   "metadata": {},
   "outputs": [],
   "source": [
    "graph_bp_edges_dir.edges[(9515749, 502897904, 0)]"
   ]
  },
  {
   "cell_type": "code",
   "execution_count": null,
   "id": "0d3fd901-9bec-4b8d-b737-efa01a883a38",
   "metadata": {},
   "outputs": [],
   "source": [
    "gdf_graph_edges_conn_undir.head()"
   ]
  },
  {
   "cell_type": "markdown",
   "id": "fbb2b79a-2ae3-4cc6-9863-05ccb13b9e4a",
   "metadata": {},
   "source": [
    "---\n",
    "\n",
    "## All graph edges CAN BE and GET projected to gdf"
   ]
  },
  {
   "cell_type": "markdown",
   "id": "ce7fc0c2-48e0-488f-83ca-7f1f0db87fa0",
   "metadata": {},
   "source": [
    "### No duplicate edge ids in graph"
   ]
  },
  {
   "cell_type": "code",
   "execution_count": null,
   "id": "d0d7d31f-9a94-4d26-af4d-b3144b117819",
   "metadata": {},
   "outputs": [],
   "source": [
    "graph_edges = list(graph_bp_edges_dir.edges)"
   ]
  },
  {
   "cell_type": "code",
   "execution_count": null,
   "id": "cd678822-5754-4b98-9a2f-12aabbd2c351",
   "metadata": {},
   "outputs": [],
   "source": [
    "graph_edges_set = set(graph_edges)"
   ]
  },
  {
   "cell_type": "code",
   "execution_count": null,
   "id": "44ed6e1a-e38b-42f2-ae35-0d4609255b7e",
   "metadata": {},
   "outputs": [],
   "source": [
    "assert len(graph_edges) == len(graph_edges_set)"
   ]
  },
  {
   "cell_type": "markdown",
   "id": "fea9d9f1-22aa-43cd-a073-d82ccfd32b86",
   "metadata": {},
   "source": [
    "### All dir graph ids have undir gdf id pairs"
   ]
  },
  {
   "cell_type": "code",
   "execution_count": null,
   "id": "35ad307d-4187-4c67-a4bc-f1f8e8d0f4fd",
   "metadata": {},
   "outputs": [],
   "source": [
    "def gnx_edge_id_str_to_tuple(s):\n",
    "    l = s[1:-1].split(', ')\n",
    "    for i in range(len(l)):\n",
    "        try:\n",
    "            l[i] = int(l[i])\n",
    "        except:\n",
    "            l[i] = l[i][1:-1]\n",
    "    return tuple(l)"
   ]
  },
  {
   "cell_type": "code",
   "execution_count": null,
   "id": "551a1013-415d-4a70-94c4-bb59111f35ff",
   "metadata": {},
   "outputs": [],
   "source": [
    "gdf_edges = gdf_graph_edges_conn_undir['gnx_edge_id'].apply(gnx_edge_id_str_to_tuple).to_list() +\\\n",
    "            gdf_graph_edges_conn_undir[~gdf_graph_edges_conn_undir['oneway']]['gnx_edge_id'].apply(gnx_edge_id_str_to_tuple).apply(lambda t: (t[1], t[0], t[2])).to_list()\n",
    "gdf_edges_set = set(gdf_edges)"
   ]
  },
  {
   "cell_type": "code",
   "execution_count": null,
   "id": "520281d2-3190-4142-bb5c-3af181a16170",
   "metadata": {},
   "outputs": [],
   "source": [
    "assert len(gdf_edges_set.intersection(graph_edges_set)) == len(gdf_edges_set)"
   ]
  },
  {
   "cell_type": "markdown",
   "id": "bd0f6d52-8c5e-451d-ac61-14981831ef88",
   "metadata": {},
   "source": [
    "### Duplicates - circular road segments (origin = destination)"
   ]
  },
  {
   "cell_type": "code",
   "execution_count": null,
   "id": "722217e7-2505-4761-a80c-093114bf10be",
   "metadata": {},
   "outputs": [],
   "source": [
    "gdf_all_set = set(gdf_graph_edges_conn_undir['gnx_edge_id'].apply(gnx_edge_id_str_to_tuple).to_list())\n",
    "gdf_undir_rev_set = set(gdf_graph_edges_conn_undir[~gdf_graph_edges_conn_undir['oneway']]['gnx_edge_id'].apply(gnx_edge_id_str_to_tuple).apply(lambda t: (t[1], t[0], t[2])).to_list())\n",
    "len(gdf_all_set.intersection(gdf_undir_rev_set))"
   ]
  },
  {
   "cell_type": "code",
   "execution_count": null,
   "id": "7bab8c02-8842-4937-9f30-88ffbea82d5d",
   "metadata": {},
   "outputs": [],
   "source": [
    "gdf_graph_edges_conn_undir[gdf_graph_edges_conn_undir['gnx_edge_id'].isin(list(map(str, gdf_all_set.intersection(gdf_undir_rev_set))))]"
   ]
  },
  {
   "cell_type": "markdown",
   "id": "314b88fe-4bb6-4ce3-9dde-a52c7113ae39",
   "metadata": {},
   "source": [
    "### All dir graph id - undir gdf id pairs match (geometries)\n",
    "\n",
    "- oneway: same id both in gdf and graph\n",
    "- twoway: gdf id and inverse [(to, from, key)] in graph"
   ]
  },
  {
   "cell_type": "code",
   "execution_count": null,
   "id": "60d51b09-3397-4f37-a02a-859c9fcc340c",
   "metadata": {},
   "outputs": [],
   "source": [
    "def verify_matching_geometries(edge_id, oneway):\n",
    "    t = gnx_edge_id_str_to_tuple(edge_id)\n",
    "    graph_geom = graph_bp_edges_dir.edges[t]['geometry']\n",
    "    gdf_geom = gdf_graph_edges_conn_undir[gdf_graph_edges_conn_undir['gnx_edge_id'] == edge_id].iloc[0].geometry\n",
    "    if oneway:\n",
    "        return (gdf_geom == graph_geom)  # geometry match\n",
    "    else:\n",
    "        t_rev = (t[1], t[0], t[2])\n",
    "        graph_geom_rev = graph_bp_edges_dir.edges[t_rev]['geometry']\n",
    "        return ((gdf_geom == graph_geom) & (gdf_geom.reverse() == graph_geom_rev)) | (t == t_rev)   # geometry + reverse geometry match or circular segment"
   ]
  },
  {
   "cell_type": "code",
   "execution_count": null,
   "id": "b432ff29-7a75-418c-9250-8ef490b5e434",
   "metadata": {},
   "outputs": [],
   "source": [
    "filt = gdf_graph_edges_conn_undir.progress_apply(lambda row: verify_matching_geometries(row['gnx_edge_id'], row['oneway']), axis=1)"
   ]
  },
  {
   "cell_type": "code",
   "execution_count": null,
   "id": "c447f068-9c0c-4fb8-a23b-701867d30f31",
   "metadata": {},
   "outputs": [],
   "source": [
    "assert gdf_graph_edges_conn_undir[~filt].shape[0] == 0"
   ]
  }
 ],
 "metadata": {
  "kernelspec": {
   "display_name": "Python 3 (ipykernel)",
   "language": "python",
   "name": "python3"
  },
  "language_info": {
   "codemirror_mode": {
    "name": "ipython",
    "version": 3
   },
   "file_extension": ".py",
   "mimetype": "text/x-python",
   "name": "python",
   "nbconvert_exporter": "python",
   "pygments_lexer": "ipython3",
   "version": "3.11.9"
  }
 },
 "nbformat": 4,
 "nbformat_minor": 5
}
