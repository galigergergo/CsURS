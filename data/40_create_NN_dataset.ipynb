{
 "cells": [
  {
   "cell_type": "code",
   "execution_count": null,
   "id": "74f67cd0-559d-4b69-886c-182701e875cd",
   "metadata": {},
   "outputs": [],
   "source": [
    "import geopandas as gpd\n",
    "import pandas as pd\n",
    "from datetime import date\n",
    "import os\n",
    "import numpy as np\n",
    "\n",
    "\n",
    "SHARED_PROJECT_PATH = '...'"
   ]
  },
  {
   "cell_type": "code",
   "execution_count": null,
   "id": "88a14bbc-9793-4128-b9ec-0343bcce4cda",
   "metadata": {},
   "outputs": [],
   "source": [
    "today = date.today().strftime('%d-%m-%Y')\n",
    "gdf_graph_edges = gpd.read_file(os.path.join(SHARED_PROJECT_PATH, 'data', 'OSM_road_network', today, f'BP_safety-network_{today}.json'), driver='GeoJSON')"
   ]
  },
  {
   "cell_type": "code",
   "execution_count": null,
   "id": "67ee7674-7acc-43d5-8eff-8b386df3779f",
   "metadata": {},
   "outputs": [],
   "source": [
    "# strings to numerical values\n",
    "gdf_graph_edges['maxspeed'] = gdf_graph_edges['maxspeed'].astype(float)"
   ]
  },
  {
   "cell_type": "code",
   "execution_count": null,
   "id": "b258eb52-ab5a-4a35-87d3-1f4abd3347a4",
   "metadata": {
    "scrolled": true
   },
   "outputs": [],
   "source": [
    "# add normalized accident numbers by segment length for later sampling -> acc_no_per_m\n",
    "gdf_graph_edges['mean_acc_no_per_m'] = gdf_graph_edges[gdf_graph_edges.columns[gdf_graph_edges.columns.str.contains('acc_no')]].apply(lambda col: col / gdf_graph_edges['length']).mean(axis=1)"
   ]
  },
  {
   "cell_type": "code",
   "execution_count": null,
   "id": "8d8c2af1-0d12-4edd-a909-7710048a08dc",
   "metadata": {},
   "outputs": [],
   "source": [
    "# define dataset configuration file\n",
    "df_dataset_conf = pd.DataFrame()\n",
    "\n",
    "# include min-max parameters of acc_no normalization into config file\n",
    "df_dataset_conf['acc_no_norm_min'] = pd.Series(gdf_graph_edges[gdf_graph_edges.filter(regex='acc_no_\\d').columns].min().min())\n",
    "df_dataset_conf['acc_no_norm_max'] = pd.Series(gdf_graph_edges[gdf_graph_edges.filter(regex='acc_no_\\d').columns].max().max())\n",
    "for feat in ['maxspeed', 'length', 'nearby_station_no', 'repr_lat', 'repr_lon']:\n",
    "    df_dataset_conf[f'{feat}_min'] = gdf_graph_edges[feat].min()\n",
    "    df_dataset_conf[f'{feat}_max'] = gdf_graph_edges[feat].max()\n",
    "\n",
    "# min-max normalization of numerical values\n",
    "gdf_graph_edges.loc[:, ['maxspeed', 'length', 'nearby_station_no', 'repr_lat', 'repr_lon']] = (gdf_graph_edges[['maxspeed', 'length', 'nearby_station_no', 'repr_lat', 'repr_lon']]-gdf_graph_edges[['maxspeed', 'length', 'nearby_station_no', 'repr_lat', 'repr_lon']].min())/\\\n",
    "                                                                                              (gdf_graph_edges[['maxspeed', 'length', 'nearby_station_no', 'repr_lat', 'repr_lon']].max()-gdf_graph_edges[['maxspeed', 'length', 'nearby_station_no', 'repr_lat', 'repr_lon']].min())\n",
    "gdf_graph_edges.loc[:, gdf_graph_edges.filter(regex='acc_no_\\d').columns] = (gdf_graph_edges[gdf_graph_edges.filter(regex='acc_no_').columns]-gdf_graph_edges[gdf_graph_edges.filter(regex='acc_no_').columns].min().min())/\\\n",
    "                                                                      (gdf_graph_edges[gdf_graph_edges.filter(regex='acc_no_').columns].max().max()-gdf_graph_edges[gdf_graph_edges.filter(regex='acc_no_').columns].min().min())"
   ]
  },
  {
   "cell_type": "code",
   "execution_count": null,
   "id": "05dcf638-4c95-4c92-8e46-d6228ca01219",
   "metadata": {},
   "outputs": [],
   "source": [
    "# one-hot encoding categorical variables\n",
    "gdf_graph_edges = pd.concat([gdf_graph_edges, pd.get_dummies(gdf_graph_edges['lit'], columns='lit', prefix='lit')], axis=1)\n",
    "gdf_graph_edges = pd.concat([gdf_graph_edges, pd.get_dummies(gdf_graph_edges['highway'], columns='highway', prefix='highway')], axis=1)\n",
    "gdf_graph_edges = pd.concat([gdf_graph_edges, pd.get_dummies(gdf_graph_edges['surface'], columns='surface', prefix='surface')], axis=1)\n",
    "gdf_graph_edges.drop(columns=['lit', 'highway', 'surface'], inplace=True)"
   ]
  },
  {
   "cell_type": "code",
   "execution_count": null,
   "id": "b0c5adb6-373f-4a5a-8095-ee2c22db9f96",
   "metadata": {},
   "outputs": [],
   "source": [
    "# boolean columns to float\n",
    "gdf_graph_edges[gdf_graph_edges.select_dtypes('bool').columns] = gdf_graph_edges[gdf_graph_edges.select_dtypes('bool').columns].astype(float)"
   ]
  },
  {
   "cell_type": "code",
   "execution_count": null,
   "id": "a1012d44-781a-430b-bbfd-f46341ff3e5d",
   "metadata": {},
   "outputs": [],
   "source": [
    "# undersampling - remove outliers - most road segments with small and large accidents per meter\n",
    "ids_outl = gdf_graph_edges[(gdf_graph_edges['mean_acc_no_per_m'] < 0.05) | (gdf_graph_edges['mean_acc_no_per_m'] > 0.4)].index.to_numpy()\n",
    "nr_non_outl = gdf_graph_edges.shape[0] - len(ids_outl)\n",
    "np.random.seed(42)\n",
    "np.random.shuffle(ids_outl)\n",
    "ids_to_remove = ids_outl[:int(round(len(ids_outl)-nr_non_outl, 0))]\n",
    "gdf_graph_edges_resmpl = gdf_graph_edges.drop(ids_to_remove)\n",
    "gdf_graph_edges_resmpl['mean_acc_no_per_m'].hist(log=True)\n",
    "gdf_graph_edges_resmpl.drop(columns='mean_acc_no_per_m', inplace=True)\n",
    "gdf_graph_edges.drop(columns='mean_acc_no_per_m', inplace=True)"
   ]
  },
  {
   "cell_type": "code",
   "execution_count": null,
   "id": "26c510d7-4db1-451e-adca-226e39a7e42d",
   "metadata": {},
   "outputs": [],
   "source": [
    "# save dataset configuration file to CSV\n",
    "df_dataset_conf.to_csv(os.path.join(SHARED_PROJECT_PATH, 'data', 'OSM_road_network', today, f'BP_safety-network_{today}_config.csv'), index=False)"
   ]
  },
  {
   "cell_type": "code",
   "execution_count": null,
   "id": "497d23e0-a8aa-4ac2-ba63-0fbce8e0b797",
   "metadata": {},
   "outputs": [],
   "source": [
    "# save NN input data to geojson\n",
    "gdf_graph_edges.to_file(os.path.join(SHARED_PROJECT_PATH, 'data', 'OSM_road_network', today, f'BP_safety-network_{today}_NN.json'), driver=\"GeoJSON\")"
   ]
  },
  {
   "cell_type": "code",
   "execution_count": null,
   "id": "9d7af9d2-3a12-439f-bfad-ac167495f62a",
   "metadata": {},
   "outputs": [],
   "source": [
    "# 9-1 train-test split dataset and save to CSVs\n",
    "gdf_graph_edges.drop(columns=['gnx_edge_id', 'geometry'], inplace=True)\n",
    "gdf_graph_edges.to_csv(os.path.join(SHARED_PROJECT_PATH, 'data', 'OSM_road_network', today, f'BP_safety-network_{today}_NN_all.csv'), index=False)\n",
    "train, test = np.split(gdf_graph_edges.sample(frac=1, random_state=42), [int(.9*len(gdf_graph_edges))])\n",
    "train.to_csv(os.path.join(SHARED_PROJECT_PATH, 'data', 'OSM_road_network', today, f'BP_safety-network_{today}_NN_train.csv'), index=False)\n",
    "test.to_csv(os.path.join(SHARED_PROJECT_PATH, 'data', 'OSM_road_network', today, f'BP_safety-network_{today}_NN_test.csv'), index=False)"
   ]
  },
  {
   "cell_type": "code",
   "execution_count": null,
   "id": "3949ff64-cf85-47ff-bb79-8a655db827a2",
   "metadata": {},
   "outputs": [],
   "source": [
    "# save resampled NN input data to geojson\n",
    "gdf_graph_edges_resmpl.to_file(os.path.join(SHARED_PROJECT_PATH, 'data', 'OSM_road_network', today, f'BP_safety-network_{today}_NN-resmpl.json'), driver=\"GeoJSON\")"
   ]
  },
  {
   "cell_type": "code",
   "execution_count": null,
   "id": "a8f43a45-f70e-47c0-b202-ca5059fe561d",
   "metadata": {},
   "outputs": [],
   "source": [
    "# 9-1 train-test split resampled dataset and save to CSVs\n",
    "gdf_graph_edges_resmpl.drop(columns=['gnx_edge_id', 'geometry'], inplace=True)\n",
    "gdf_graph_edges_resmpl.to_csv(os.path.join(SHARED_PROJECT_PATH, 'data', 'OSM_road_network', today, f'BP_safety-network_{today}_NN-resmpl_all.csv'), index=False)\n",
    "train, test = np.split(gdf_graph_edges_resmpl.sample(frac=1, random_state=42), [int(.9*len(gdf_graph_edges_resmpl))])\n",
    "train.to_csv(os.path.join(SHARED_PROJECT_PATH, 'data', 'OSM_road_network', today, f'BP_safety-network_{today}_NN-resmpl_train.csv'), index=False)\n",
    "test.to_csv(os.path.join(SHARED_PROJECT_PATH, 'data', 'OSM_road_network', today, f'BP_safety-network_{today}_NN-resmpl_test.csv'), index=False)"
   ]
  }
 ],
 "metadata": {
  "kernelspec": {
   "display_name": "Python 3 (ipykernel)",
   "language": "python",
   "name": "python3"
  },
  "language_info": {
   "codemirror_mode": {
    "name": "ipython",
    "version": 3
   },
   "file_extension": ".py",
   "mimetype": "text/x-python",
   "name": "python",
   "nbconvert_exporter": "python",
   "pygments_lexer": "ipython3",
   "version": "3.11.9"
  }
 },
 "nbformat": 4,
 "nbformat_minor": 5
}
